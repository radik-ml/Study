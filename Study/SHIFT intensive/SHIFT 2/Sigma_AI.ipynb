{
  "nbformat": 4,
  "nbformat_minor": 0,
  "metadata": {
    "colab": {
      "provenance": [],
      "toc_visible": true
    },
    "kernelspec": {
      "name": "python3",
      "display_name": "Python 3"
    },
    "language_info": {
      "name": "python"
    }
  },
  "cells": [
    {
      "cell_type": "markdown",
      "source": [
        "# 0) Установка библиотек"
      ],
      "metadata": {
        "id": "wtTQUZ5UcQRy"
      }
    },
    {
      "cell_type": "code",
      "source": [
        "!pip install catboost"
      ],
      "metadata": {
        "colab": {
          "base_uri": "https://localhost:8080/"
        },
        "id": "i1VMZkDcaCB3",
        "outputId": "261901ba-698e-4000-e146-e90c1d7365c2"
      },
      "execution_count": null,
      "outputs": [
        {
          "output_type": "stream",
          "name": "stdout",
          "text": [
            "Requirement already satisfied: catboost in /usr/local/lib/python3.11/dist-packages (1.2.7)\n",
            "Requirement already satisfied: graphviz in /usr/local/lib/python3.11/dist-packages (from catboost) (0.20.3)\n",
            "Requirement already satisfied: matplotlib in /usr/local/lib/python3.11/dist-packages (from catboost) (3.10.0)\n",
            "Requirement already satisfied: numpy<2.0,>=1.16.0 in /usr/local/lib/python3.11/dist-packages (from catboost) (1.26.4)\n",
            "Requirement already satisfied: pandas>=0.24 in /usr/local/lib/python3.11/dist-packages (from catboost) (2.2.2)\n",
            "Requirement already satisfied: scipy in /usr/local/lib/python3.11/dist-packages (from catboost) (1.13.1)\n",
            "Requirement already satisfied: plotly in /usr/local/lib/python3.11/dist-packages (from catboost) (5.24.1)\n",
            "Requirement already satisfied: six in /usr/local/lib/python3.11/dist-packages (from catboost) (1.17.0)\n",
            "Requirement already satisfied: python-dateutil>=2.8.2 in /usr/local/lib/python3.11/dist-packages (from pandas>=0.24->catboost) (2.8.2)\n",
            "Requirement already satisfied: pytz>=2020.1 in /usr/local/lib/python3.11/dist-packages (from pandas>=0.24->catboost) (2024.2)\n",
            "Requirement already satisfied: tzdata>=2022.7 in /usr/local/lib/python3.11/dist-packages (from pandas>=0.24->catboost) (2025.1)\n",
            "Requirement already satisfied: contourpy>=1.0.1 in /usr/local/lib/python3.11/dist-packages (from matplotlib->catboost) (1.3.1)\n",
            "Requirement already satisfied: cycler>=0.10 in /usr/local/lib/python3.11/dist-packages (from matplotlib->catboost) (0.12.1)\n",
            "Requirement already satisfied: fonttools>=4.22.0 in /usr/local/lib/python3.11/dist-packages (from matplotlib->catboost) (4.55.7)\n",
            "Requirement already satisfied: kiwisolver>=1.3.1 in /usr/local/lib/python3.11/dist-packages (from matplotlib->catboost) (1.4.8)\n",
            "Requirement already satisfied: packaging>=20.0 in /usr/local/lib/python3.11/dist-packages (from matplotlib->catboost) (24.2)\n",
            "Requirement already satisfied: pillow>=8 in /usr/local/lib/python3.11/dist-packages (from matplotlib->catboost) (11.1.0)\n",
            "Requirement already satisfied: pyparsing>=2.3.1 in /usr/local/lib/python3.11/dist-packages (from matplotlib->catboost) (3.2.1)\n",
            "Requirement already satisfied: tenacity>=6.2.0 in /usr/local/lib/python3.11/dist-packages (from plotly->catboost) (9.0.0)\n"
          ]
        }
      ]
    },
    {
      "cell_type": "code",
      "source": [
        "!pip install phik"
      ],
      "metadata": {
        "colab": {
          "base_uri": "https://localhost:8080/"
        },
        "id": "vMmIg3gAaDhl",
        "outputId": "f6ef569a-9b2a-4738-fe19-6edd4caa23aa"
      },
      "execution_count": null,
      "outputs": [
        {
          "output_type": "stream",
          "name": "stdout",
          "text": [
            "Requirement already satisfied: phik in /usr/local/lib/python3.11/dist-packages (0.12.4)\n",
            "Requirement already satisfied: numpy>=1.18.0 in /usr/local/lib/python3.11/dist-packages (from phik) (1.26.4)\n",
            "Requirement already satisfied: scipy>=1.5.2 in /usr/local/lib/python3.11/dist-packages (from phik) (1.13.1)\n",
            "Requirement already satisfied: pandas>=0.25.1 in /usr/local/lib/python3.11/dist-packages (from phik) (2.2.2)\n",
            "Requirement already satisfied: matplotlib>=2.2.3 in /usr/local/lib/python3.11/dist-packages (from phik) (3.10.0)\n",
            "Requirement already satisfied: joblib>=0.14.1 in /usr/local/lib/python3.11/dist-packages (from phik) (1.4.2)\n",
            "Requirement already satisfied: contourpy>=1.0.1 in /usr/local/lib/python3.11/dist-packages (from matplotlib>=2.2.3->phik) (1.3.1)\n",
            "Requirement already satisfied: cycler>=0.10 in /usr/local/lib/python3.11/dist-packages (from matplotlib>=2.2.3->phik) (0.12.1)\n",
            "Requirement already satisfied: fonttools>=4.22.0 in /usr/local/lib/python3.11/dist-packages (from matplotlib>=2.2.3->phik) (4.55.7)\n",
            "Requirement already satisfied: kiwisolver>=1.3.1 in /usr/local/lib/python3.11/dist-packages (from matplotlib>=2.2.3->phik) (1.4.8)\n",
            "Requirement already satisfied: packaging>=20.0 in /usr/local/lib/python3.11/dist-packages (from matplotlib>=2.2.3->phik) (24.2)\n",
            "Requirement already satisfied: pillow>=8 in /usr/local/lib/python3.11/dist-packages (from matplotlib>=2.2.3->phik) (11.1.0)\n",
            "Requirement already satisfied: pyparsing>=2.3.1 in /usr/local/lib/python3.11/dist-packages (from matplotlib>=2.2.3->phik) (3.2.1)\n",
            "Requirement already satisfied: python-dateutil>=2.7 in /usr/local/lib/python3.11/dist-packages (from matplotlib>=2.2.3->phik) (2.8.2)\n",
            "Requirement already satisfied: pytz>=2020.1 in /usr/local/lib/python3.11/dist-packages (from pandas>=0.25.1->phik) (2024.2)\n",
            "Requirement already satisfied: tzdata>=2022.7 in /usr/local/lib/python3.11/dist-packages (from pandas>=0.25.1->phik) (2025.1)\n",
            "Requirement already satisfied: six>=1.5 in /usr/local/lib/python3.11/dist-packages (from python-dateutil>=2.7->matplotlib>=2.2.3->phik) (1.17.0)\n"
          ]
        }
      ]
    },
    {
      "cell_type": "code",
      "source": [
        "!pip install xgboost"
      ],
      "metadata": {
        "colab": {
          "base_uri": "https://localhost:8080/"
        },
        "id": "VGCNGgEUxKUK",
        "outputId": "93e1612e-1e7c-46c2-a5c0-9de4f93117da"
      },
      "execution_count": null,
      "outputs": [
        {
          "output_type": "stream",
          "name": "stdout",
          "text": [
            "Requirement already satisfied: xgboost in /usr/local/lib/python3.11/dist-packages (2.1.3)\n",
            "Requirement already satisfied: numpy in /usr/local/lib/python3.11/dist-packages (from xgboost) (1.26.4)\n",
            "Requirement already satisfied: nvidia-nccl-cu12 in /usr/local/lib/python3.11/dist-packages (from xgboost) (2.21.5)\n",
            "Requirement already satisfied: scipy in /usr/local/lib/python3.11/dist-packages (from xgboost) (1.13.1)\n"
          ]
        }
      ]
    },
    {
      "cell_type": "code",
      "source": [
        "!pip install category_encoders"
      ],
      "metadata": {
        "colab": {
          "base_uri": "https://localhost:8080/"
        },
        "id": "_MxVch-bmtcW",
        "outputId": "2cd862e8-035d-4fd1-cb7d-d73583a660c8"
      },
      "execution_count": null,
      "outputs": [
        {
          "output_type": "stream",
          "name": "stdout",
          "text": [
            "Requirement already satisfied: category_encoders in /usr/local/lib/python3.11/dist-packages (2.8.0)\n",
            "Requirement already satisfied: numpy>=1.14.0 in /usr/local/lib/python3.11/dist-packages (from category_encoders) (1.26.4)\n",
            "Requirement already satisfied: pandas>=1.0.5 in /usr/local/lib/python3.11/dist-packages (from category_encoders) (2.2.2)\n",
            "Requirement already satisfied: patsy>=0.5.1 in /usr/local/lib/python3.11/dist-packages (from category_encoders) (1.0.1)\n",
            "Requirement already satisfied: scikit-learn>=1.6.0 in /usr/local/lib/python3.11/dist-packages (from category_encoders) (1.6.1)\n",
            "Requirement already satisfied: scipy>=1.0.0 in /usr/local/lib/python3.11/dist-packages (from category_encoders) (1.13.1)\n",
            "Requirement already satisfied: statsmodels>=0.9.0 in /usr/local/lib/python3.11/dist-packages (from category_encoders) (0.14.4)\n",
            "Requirement already satisfied: python-dateutil>=2.8.2 in /usr/local/lib/python3.11/dist-packages (from pandas>=1.0.5->category_encoders) (2.8.2)\n",
            "Requirement already satisfied: pytz>=2020.1 in /usr/local/lib/python3.11/dist-packages (from pandas>=1.0.5->category_encoders) (2024.2)\n",
            "Requirement already satisfied: tzdata>=2022.7 in /usr/local/lib/python3.11/dist-packages (from pandas>=1.0.5->category_encoders) (2025.1)\n",
            "Requirement already satisfied: joblib>=1.2.0 in /usr/local/lib/python3.11/dist-packages (from scikit-learn>=1.6.0->category_encoders) (1.4.2)\n",
            "Requirement already satisfied: threadpoolctl>=3.1.0 in /usr/local/lib/python3.11/dist-packages (from scikit-learn>=1.6.0->category_encoders) (3.5.0)\n",
            "Requirement already satisfied: packaging>=21.3 in /usr/local/lib/python3.11/dist-packages (from statsmodels>=0.9.0->category_encoders) (24.2)\n",
            "Requirement already satisfied: six>=1.5 in /usr/local/lib/python3.11/dist-packages (from python-dateutil>=2.8.2->pandas>=1.0.5->category_encoders) (1.17.0)\n"
          ]
        }
      ]
    },
    {
      "cell_type": "markdown",
      "source": [
        "# 1) EDA"
      ],
      "metadata": {
        "id": "hXKLCJV0cVoF"
      }
    },
    {
      "cell_type": "code",
      "execution_count": null,
      "metadata": {
        "colab": {
          "base_uri": "https://localhost:8080/"
        },
        "id": "sJmSmlzrVqLQ",
        "outputId": "83ca7f77-b4b2-4b93-d597-01ed95a833d1"
      },
      "outputs": [
        {
          "output_type": "stream",
          "name": "stdout",
          "text": [
            "Drive already mounted at /content/drive; to attempt to forcibly remount, call drive.mount(\"/content/drive\", force_remount=True).\n"
          ]
        }
      ],
      "source": [
        "from google.colab import drive\n",
        "drive.mount('/content/drive')"
      ]
    },
    {
      "cell_type": "code",
      "source": [
        "import pandas as pd\n",
        "import seaborn as sns\n",
        "import numpy as np\n",
        "import matplotlib.pyplot as plt\n",
        "\n",
        "from sklearn.model_selection import train_test_split\n",
        "from sklearn.linear_model import LogisticRegression\n",
        "from sklearn.metrics import roc_auc_score, f1_score\n",
        "from catboost import CatBoostClassifier\n",
        "from sklearn.tree import DecisionTreeClassifier\n",
        "from sklearn.ensemble import BaggingClassifier , RandomForestClassifier\n",
        "from sklearn.preprocessing import StandardScaler\n",
        "from sklearn.neighbors import KNeighborsClassifier\n",
        "from xgboost import XGBClassifier\n",
        "from sklearn.preprocessing import LabelEncoder\n",
        "from phik.report import plot_correlation_matrix\n",
        "import category_encoders as ce\n",
        "from sklearn.model_selection import GridSearchCV\n",
        "from sklearn.ensemble import AdaBoostClassifier\n",
        "from sklearn.ensemble import StackingClassifier\n",
        "\n",
        "\n",
        "\n",
        "train = pd.read_csv('/content/drive/MyDrive/shift_winter/train.csv',delimiter=',')\n",
        "test = pd.read_csv('/content/drive/MyDrive/shift_winter/test.csv',delimiter=',')\n",
        "\n",
        "train"
      ],
      "metadata": {
        "colab": {
          "base_uri": "https://localhost:8080/",
          "height": 704
        },
        "id": "O_x5DFQ8avS9",
        "outputId": "fd445d7c-0e8f-4341-ef1e-b0d93a83b698"
      },
      "execution_count": null,
      "outputs": [
        {
          "output_type": "execute_result",
          "data": {
            "text/plain": [
              "           Name  Gender   Age         City Working Professional or Student  \\\n",
              "0        Chirag    Male  29.0      Lucknow                         Student   \n",
              "1        Armaan    Male  57.0       Mumbai            Working Professional   \n",
              "2       Anirudh    Male  56.0       Kalyan            Working Professional   \n",
              "3         Vivan    Male  56.0     Varanasi            Working Professional   \n",
              "4         Ritik    Male  38.0       Kalyan            Working Professional   \n",
              "...         ...     ...   ...          ...                             ...   \n",
              "98485      Shiv    Male  60.0       Mumbai            Working Professional   \n",
              "98486  Aaradhya  Female  56.0  Vasai-Virar            Working Professional   \n",
              "98487      Diya  Female  60.0       Meerut            Working Professional   \n",
              "98488     Rupak    Male  21.0       Kalyan                         Student   \n",
              "98489      Diya  Female  43.0       Meerut            Working Professional   \n",
              "\n",
              "              Profession  Academic Pressure  Work Pressure  CGPA  \\\n",
              "0                    NaN                3.0            NaN  8.59   \n",
              "1      Marketing Manager                NaN            5.0   NaN   \n",
              "2             HR Manager                NaN            4.0   NaN   \n",
              "3             Pharmacist                NaN            3.0   NaN   \n",
              "4         Data Scientist                NaN            4.0   NaN   \n",
              "...                  ...                ...            ...   ...   \n",
              "98485            Teacher                NaN            3.0   NaN   \n",
              "98486                NaN                NaN            2.0   NaN   \n",
              "98487            Teacher                NaN            3.0   NaN   \n",
              "98488                NaN                5.0            NaN  8.62   \n",
              "98489          Architect                NaN            1.0   NaN   \n",
              "\n",
              "       Study Satisfaction  Job Satisfaction     Sleep Duration Dietary Habits  \\\n",
              "0                     2.0               NaN          7-8 hours       Moderate   \n",
              "1                     NaN               3.0  More than 8 hours        Healthy   \n",
              "2                     NaN               2.0          5-6 hours      Unhealthy   \n",
              "3                     NaN               3.0          5-6 hours      Unhealthy   \n",
              "4                     NaN               1.0  More than 8 hours        Healthy   \n",
              "...                   ...               ...                ...            ...   \n",
              "98485                 NaN               2.0          7-8 hours      Unhealthy   \n",
              "98486                 NaN               3.0  More than 8 hours       Moderate   \n",
              "98487                 NaN               3.0  Less than 5 hours      Unhealthy   \n",
              "98488                 1.0               NaN          7-8 hours      Unhealthy   \n",
              "98489                 NaN               4.0          7-8 hours        Healthy   \n",
              "\n",
              "         Degree Have you ever had suicidal thoughts ?  Work/Study Hours  \\\n",
              "0            MA                                   Yes               1.0   \n",
              "1         B.Com                                    No               4.0   \n",
              "2           MCA                                    No               1.0   \n",
              "3          MBBS                                   Yes               9.0   \n",
              "4            BE                                   Yes               2.0   \n",
              "...         ...                                   ...               ...   \n",
              "98485    B.Arch                                    No               0.0   \n",
              "98486  Class 12                                    No              10.0   \n",
              "98487        MD                                   Yes               9.0   \n",
              "98488    B.Arch                                   Yes               8.0   \n",
              "98489    B.Arch                                   Yes               0.0   \n",
              "\n",
              "       Financial Stress Family History of Mental Illness  Depression  \n",
              "0                   3.0                               No           1  \n",
              "1                   2.0                               No           0  \n",
              "2                   1.0                              Yes           0  \n",
              "3                   5.0                               No           0  \n",
              "4                   2.0                              Yes           1  \n",
              "...                 ...                              ...         ...  \n",
              "98485               2.0                              Yes           0  \n",
              "98486               3.0                              Yes           0  \n",
              "98487               1.0                              Yes           0  \n",
              "98488               2.0                               No           1  \n",
              "98489               5.0                               No           0  \n",
              "\n",
              "[98490 rows x 19 columns]"
            ],
            "text/html": [
              "\n",
              "  <div id=\"df-9c5f93ef-a39a-42cd-8811-238f637bbb27\" class=\"colab-df-container\">\n",
              "    <div>\n",
              "<style scoped>\n",
              "    .dataframe tbody tr th:only-of-type {\n",
              "        vertical-align: middle;\n",
              "    }\n",
              "\n",
              "    .dataframe tbody tr th {\n",
              "        vertical-align: top;\n",
              "    }\n",
              "\n",
              "    .dataframe thead th {\n",
              "        text-align: right;\n",
              "    }\n",
              "</style>\n",
              "<table border=\"1\" class=\"dataframe\">\n",
              "  <thead>\n",
              "    <tr style=\"text-align: right;\">\n",
              "      <th></th>\n",
              "      <th>Name</th>\n",
              "      <th>Gender</th>\n",
              "      <th>Age</th>\n",
              "      <th>City</th>\n",
              "      <th>Working Professional or Student</th>\n",
              "      <th>Profession</th>\n",
              "      <th>Academic Pressure</th>\n",
              "      <th>Work Pressure</th>\n",
              "      <th>CGPA</th>\n",
              "      <th>Study Satisfaction</th>\n",
              "      <th>Job Satisfaction</th>\n",
              "      <th>Sleep Duration</th>\n",
              "      <th>Dietary Habits</th>\n",
              "      <th>Degree</th>\n",
              "      <th>Have you ever had suicidal thoughts ?</th>\n",
              "      <th>Work/Study Hours</th>\n",
              "      <th>Financial Stress</th>\n",
              "      <th>Family History of Mental Illness</th>\n",
              "      <th>Depression</th>\n",
              "    </tr>\n",
              "  </thead>\n",
              "  <tbody>\n",
              "    <tr>\n",
              "      <th>0</th>\n",
              "      <td>Chirag</td>\n",
              "      <td>Male</td>\n",
              "      <td>29.0</td>\n",
              "      <td>Lucknow</td>\n",
              "      <td>Student</td>\n",
              "      <td>NaN</td>\n",
              "      <td>3.0</td>\n",
              "      <td>NaN</td>\n",
              "      <td>8.59</td>\n",
              "      <td>2.0</td>\n",
              "      <td>NaN</td>\n",
              "      <td>7-8 hours</td>\n",
              "      <td>Moderate</td>\n",
              "      <td>MA</td>\n",
              "      <td>Yes</td>\n",
              "      <td>1.0</td>\n",
              "      <td>3.0</td>\n",
              "      <td>No</td>\n",
              "      <td>1</td>\n",
              "    </tr>\n",
              "    <tr>\n",
              "      <th>1</th>\n",
              "      <td>Armaan</td>\n",
              "      <td>Male</td>\n",
              "      <td>57.0</td>\n",
              "      <td>Mumbai</td>\n",
              "      <td>Working Professional</td>\n",
              "      <td>Marketing Manager</td>\n",
              "      <td>NaN</td>\n",
              "      <td>5.0</td>\n",
              "      <td>NaN</td>\n",
              "      <td>NaN</td>\n",
              "      <td>3.0</td>\n",
              "      <td>More than 8 hours</td>\n",
              "      <td>Healthy</td>\n",
              "      <td>B.Com</td>\n",
              "      <td>No</td>\n",
              "      <td>4.0</td>\n",
              "      <td>2.0</td>\n",
              "      <td>No</td>\n",
              "      <td>0</td>\n",
              "    </tr>\n",
              "    <tr>\n",
              "      <th>2</th>\n",
              "      <td>Anirudh</td>\n",
              "      <td>Male</td>\n",
              "      <td>56.0</td>\n",
              "      <td>Kalyan</td>\n",
              "      <td>Working Professional</td>\n",
              "      <td>HR Manager</td>\n",
              "      <td>NaN</td>\n",
              "      <td>4.0</td>\n",
              "      <td>NaN</td>\n",
              "      <td>NaN</td>\n",
              "      <td>2.0</td>\n",
              "      <td>5-6 hours</td>\n",
              "      <td>Unhealthy</td>\n",
              "      <td>MCA</td>\n",
              "      <td>No</td>\n",
              "      <td>1.0</td>\n",
              "      <td>1.0</td>\n",
              "      <td>Yes</td>\n",
              "      <td>0</td>\n",
              "    </tr>\n",
              "    <tr>\n",
              "      <th>3</th>\n",
              "      <td>Vivan</td>\n",
              "      <td>Male</td>\n",
              "      <td>56.0</td>\n",
              "      <td>Varanasi</td>\n",
              "      <td>Working Professional</td>\n",
              "      <td>Pharmacist</td>\n",
              "      <td>NaN</td>\n",
              "      <td>3.0</td>\n",
              "      <td>NaN</td>\n",
              "      <td>NaN</td>\n",
              "      <td>3.0</td>\n",
              "      <td>5-6 hours</td>\n",
              "      <td>Unhealthy</td>\n",
              "      <td>MBBS</td>\n",
              "      <td>Yes</td>\n",
              "      <td>9.0</td>\n",
              "      <td>5.0</td>\n",
              "      <td>No</td>\n",
              "      <td>0</td>\n",
              "    </tr>\n",
              "    <tr>\n",
              "      <th>4</th>\n",
              "      <td>Ritik</td>\n",
              "      <td>Male</td>\n",
              "      <td>38.0</td>\n",
              "      <td>Kalyan</td>\n",
              "      <td>Working Professional</td>\n",
              "      <td>Data Scientist</td>\n",
              "      <td>NaN</td>\n",
              "      <td>4.0</td>\n",
              "      <td>NaN</td>\n",
              "      <td>NaN</td>\n",
              "      <td>1.0</td>\n",
              "      <td>More than 8 hours</td>\n",
              "      <td>Healthy</td>\n",
              "      <td>BE</td>\n",
              "      <td>Yes</td>\n",
              "      <td>2.0</td>\n",
              "      <td>2.0</td>\n",
              "      <td>Yes</td>\n",
              "      <td>1</td>\n",
              "    </tr>\n",
              "    <tr>\n",
              "      <th>...</th>\n",
              "      <td>...</td>\n",
              "      <td>...</td>\n",
              "      <td>...</td>\n",
              "      <td>...</td>\n",
              "      <td>...</td>\n",
              "      <td>...</td>\n",
              "      <td>...</td>\n",
              "      <td>...</td>\n",
              "      <td>...</td>\n",
              "      <td>...</td>\n",
              "      <td>...</td>\n",
              "      <td>...</td>\n",
              "      <td>...</td>\n",
              "      <td>...</td>\n",
              "      <td>...</td>\n",
              "      <td>...</td>\n",
              "      <td>...</td>\n",
              "      <td>...</td>\n",
              "      <td>...</td>\n",
              "    </tr>\n",
              "    <tr>\n",
              "      <th>98485</th>\n",
              "      <td>Shiv</td>\n",
              "      <td>Male</td>\n",
              "      <td>60.0</td>\n",
              "      <td>Mumbai</td>\n",
              "      <td>Working Professional</td>\n",
              "      <td>Teacher</td>\n",
              "      <td>NaN</td>\n",
              "      <td>3.0</td>\n",
              "      <td>NaN</td>\n",
              "      <td>NaN</td>\n",
              "      <td>2.0</td>\n",
              "      <td>7-8 hours</td>\n",
              "      <td>Unhealthy</td>\n",
              "      <td>B.Arch</td>\n",
              "      <td>No</td>\n",
              "      <td>0.0</td>\n",
              "      <td>2.0</td>\n",
              "      <td>Yes</td>\n",
              "      <td>0</td>\n",
              "    </tr>\n",
              "    <tr>\n",
              "      <th>98486</th>\n",
              "      <td>Aaradhya</td>\n",
              "      <td>Female</td>\n",
              "      <td>56.0</td>\n",
              "      <td>Vasai-Virar</td>\n",
              "      <td>Working Professional</td>\n",
              "      <td>NaN</td>\n",
              "      <td>NaN</td>\n",
              "      <td>2.0</td>\n",
              "      <td>NaN</td>\n",
              "      <td>NaN</td>\n",
              "      <td>3.0</td>\n",
              "      <td>More than 8 hours</td>\n",
              "      <td>Moderate</td>\n",
              "      <td>Class 12</td>\n",
              "      <td>No</td>\n",
              "      <td>10.0</td>\n",
              "      <td>3.0</td>\n",
              "      <td>Yes</td>\n",
              "      <td>0</td>\n",
              "    </tr>\n",
              "    <tr>\n",
              "      <th>98487</th>\n",
              "      <td>Diya</td>\n",
              "      <td>Female</td>\n",
              "      <td>60.0</td>\n",
              "      <td>Meerut</td>\n",
              "      <td>Working Professional</td>\n",
              "      <td>Teacher</td>\n",
              "      <td>NaN</td>\n",
              "      <td>3.0</td>\n",
              "      <td>NaN</td>\n",
              "      <td>NaN</td>\n",
              "      <td>3.0</td>\n",
              "      <td>Less than 5 hours</td>\n",
              "      <td>Unhealthy</td>\n",
              "      <td>MD</td>\n",
              "      <td>Yes</td>\n",
              "      <td>9.0</td>\n",
              "      <td>1.0</td>\n",
              "      <td>Yes</td>\n",
              "      <td>0</td>\n",
              "    </tr>\n",
              "    <tr>\n",
              "      <th>98488</th>\n",
              "      <td>Rupak</td>\n",
              "      <td>Male</td>\n",
              "      <td>21.0</td>\n",
              "      <td>Kalyan</td>\n",
              "      <td>Student</td>\n",
              "      <td>NaN</td>\n",
              "      <td>5.0</td>\n",
              "      <td>NaN</td>\n",
              "      <td>8.62</td>\n",
              "      <td>1.0</td>\n",
              "      <td>NaN</td>\n",
              "      <td>7-8 hours</td>\n",
              "      <td>Unhealthy</td>\n",
              "      <td>B.Arch</td>\n",
              "      <td>Yes</td>\n",
              "      <td>8.0</td>\n",
              "      <td>2.0</td>\n",
              "      <td>No</td>\n",
              "      <td>1</td>\n",
              "    </tr>\n",
              "    <tr>\n",
              "      <th>98489</th>\n",
              "      <td>Diya</td>\n",
              "      <td>Female</td>\n",
              "      <td>43.0</td>\n",
              "      <td>Meerut</td>\n",
              "      <td>Working Professional</td>\n",
              "      <td>Architect</td>\n",
              "      <td>NaN</td>\n",
              "      <td>1.0</td>\n",
              "      <td>NaN</td>\n",
              "      <td>NaN</td>\n",
              "      <td>4.0</td>\n",
              "      <td>7-8 hours</td>\n",
              "      <td>Healthy</td>\n",
              "      <td>B.Arch</td>\n",
              "      <td>Yes</td>\n",
              "      <td>0.0</td>\n",
              "      <td>5.0</td>\n",
              "      <td>No</td>\n",
              "      <td>0</td>\n",
              "    </tr>\n",
              "  </tbody>\n",
              "</table>\n",
              "<p>98490 rows × 19 columns</p>\n",
              "</div>\n",
              "    <div class=\"colab-df-buttons\">\n",
              "\n",
              "  <div class=\"colab-df-container\">\n",
              "    <button class=\"colab-df-convert\" onclick=\"convertToInteractive('df-9c5f93ef-a39a-42cd-8811-238f637bbb27')\"\n",
              "            title=\"Convert this dataframe to an interactive table.\"\n",
              "            style=\"display:none;\">\n",
              "\n",
              "  <svg xmlns=\"http://www.w3.org/2000/svg\" height=\"24px\" viewBox=\"0 -960 960 960\">\n",
              "    <path d=\"M120-120v-720h720v720H120Zm60-500h600v-160H180v160Zm220 220h160v-160H400v160Zm0 220h160v-160H400v160ZM180-400h160v-160H180v160Zm440 0h160v-160H620v160ZM180-180h160v-160H180v160Zm440 0h160v-160H620v160Z\"/>\n",
              "  </svg>\n",
              "    </button>\n",
              "\n",
              "  <style>\n",
              "    .colab-df-container {\n",
              "      display:flex;\n",
              "      gap: 12px;\n",
              "    }\n",
              "\n",
              "    .colab-df-convert {\n",
              "      background-color: #E8F0FE;\n",
              "      border: none;\n",
              "      border-radius: 50%;\n",
              "      cursor: pointer;\n",
              "      display: none;\n",
              "      fill: #1967D2;\n",
              "      height: 32px;\n",
              "      padding: 0 0 0 0;\n",
              "      width: 32px;\n",
              "    }\n",
              "\n",
              "    .colab-df-convert:hover {\n",
              "      background-color: #E2EBFA;\n",
              "      box-shadow: 0px 1px 2px rgba(60, 64, 67, 0.3), 0px 1px 3px 1px rgba(60, 64, 67, 0.15);\n",
              "      fill: #174EA6;\n",
              "    }\n",
              "\n",
              "    .colab-df-buttons div {\n",
              "      margin-bottom: 4px;\n",
              "    }\n",
              "\n",
              "    [theme=dark] .colab-df-convert {\n",
              "      background-color: #3B4455;\n",
              "      fill: #D2E3FC;\n",
              "    }\n",
              "\n",
              "    [theme=dark] .colab-df-convert:hover {\n",
              "      background-color: #434B5C;\n",
              "      box-shadow: 0px 1px 3px 1px rgba(0, 0, 0, 0.15);\n",
              "      filter: drop-shadow(0px 1px 2px rgba(0, 0, 0, 0.3));\n",
              "      fill: #FFFFFF;\n",
              "    }\n",
              "  </style>\n",
              "\n",
              "    <script>\n",
              "      const buttonEl =\n",
              "        document.querySelector('#df-9c5f93ef-a39a-42cd-8811-238f637bbb27 button.colab-df-convert');\n",
              "      buttonEl.style.display =\n",
              "        google.colab.kernel.accessAllowed ? 'block' : 'none';\n",
              "\n",
              "      async function convertToInteractive(key) {\n",
              "        const element = document.querySelector('#df-9c5f93ef-a39a-42cd-8811-238f637bbb27');\n",
              "        const dataTable =\n",
              "          await google.colab.kernel.invokeFunction('convertToInteractive',\n",
              "                                                    [key], {});\n",
              "        if (!dataTable) return;\n",
              "\n",
              "        const docLinkHtml = 'Like what you see? Visit the ' +\n",
              "          '<a target=\"_blank\" href=https://colab.research.google.com/notebooks/data_table.ipynb>data table notebook</a>'\n",
              "          + ' to learn more about interactive tables.';\n",
              "        element.innerHTML = '';\n",
              "        dataTable['output_type'] = 'display_data';\n",
              "        await google.colab.output.renderOutput(dataTable, element);\n",
              "        const docLink = document.createElement('div');\n",
              "        docLink.innerHTML = docLinkHtml;\n",
              "        element.appendChild(docLink);\n",
              "      }\n",
              "    </script>\n",
              "  </div>\n",
              "\n",
              "\n",
              "<div id=\"df-599c938f-5e45-43ed-afb7-aa9119c3f6b6\">\n",
              "  <button class=\"colab-df-quickchart\" onclick=\"quickchart('df-599c938f-5e45-43ed-afb7-aa9119c3f6b6')\"\n",
              "            title=\"Suggest charts\"\n",
              "            style=\"display:none;\">\n",
              "\n",
              "<svg xmlns=\"http://www.w3.org/2000/svg\" height=\"24px\"viewBox=\"0 0 24 24\"\n",
              "     width=\"24px\">\n",
              "    <g>\n",
              "        <path d=\"M19 3H5c-1.1 0-2 .9-2 2v14c0 1.1.9 2 2 2h14c1.1 0 2-.9 2-2V5c0-1.1-.9-2-2-2zM9 17H7v-7h2v7zm4 0h-2V7h2v10zm4 0h-2v-4h2v4z\"/>\n",
              "    </g>\n",
              "</svg>\n",
              "  </button>\n",
              "\n",
              "<style>\n",
              "  .colab-df-quickchart {\n",
              "      --bg-color: #E8F0FE;\n",
              "      --fill-color: #1967D2;\n",
              "      --hover-bg-color: #E2EBFA;\n",
              "      --hover-fill-color: #174EA6;\n",
              "      --disabled-fill-color: #AAA;\n",
              "      --disabled-bg-color: #DDD;\n",
              "  }\n",
              "\n",
              "  [theme=dark] .colab-df-quickchart {\n",
              "      --bg-color: #3B4455;\n",
              "      --fill-color: #D2E3FC;\n",
              "      --hover-bg-color: #434B5C;\n",
              "      --hover-fill-color: #FFFFFF;\n",
              "      --disabled-bg-color: #3B4455;\n",
              "      --disabled-fill-color: #666;\n",
              "  }\n",
              "\n",
              "  .colab-df-quickchart {\n",
              "    background-color: var(--bg-color);\n",
              "    border: none;\n",
              "    border-radius: 50%;\n",
              "    cursor: pointer;\n",
              "    display: none;\n",
              "    fill: var(--fill-color);\n",
              "    height: 32px;\n",
              "    padding: 0;\n",
              "    width: 32px;\n",
              "  }\n",
              "\n",
              "  .colab-df-quickchart:hover {\n",
              "    background-color: var(--hover-bg-color);\n",
              "    box-shadow: 0 1px 2px rgba(60, 64, 67, 0.3), 0 1px 3px 1px rgba(60, 64, 67, 0.15);\n",
              "    fill: var(--button-hover-fill-color);\n",
              "  }\n",
              "\n",
              "  .colab-df-quickchart-complete:disabled,\n",
              "  .colab-df-quickchart-complete:disabled:hover {\n",
              "    background-color: var(--disabled-bg-color);\n",
              "    fill: var(--disabled-fill-color);\n",
              "    box-shadow: none;\n",
              "  }\n",
              "\n",
              "  .colab-df-spinner {\n",
              "    border: 2px solid var(--fill-color);\n",
              "    border-color: transparent;\n",
              "    border-bottom-color: var(--fill-color);\n",
              "    animation:\n",
              "      spin 1s steps(1) infinite;\n",
              "  }\n",
              "\n",
              "  @keyframes spin {\n",
              "    0% {\n",
              "      border-color: transparent;\n",
              "      border-bottom-color: var(--fill-color);\n",
              "      border-left-color: var(--fill-color);\n",
              "    }\n",
              "    20% {\n",
              "      border-color: transparent;\n",
              "      border-left-color: var(--fill-color);\n",
              "      border-top-color: var(--fill-color);\n",
              "    }\n",
              "    30% {\n",
              "      border-color: transparent;\n",
              "      border-left-color: var(--fill-color);\n",
              "      border-top-color: var(--fill-color);\n",
              "      border-right-color: var(--fill-color);\n",
              "    }\n",
              "    40% {\n",
              "      border-color: transparent;\n",
              "      border-right-color: var(--fill-color);\n",
              "      border-top-color: var(--fill-color);\n",
              "    }\n",
              "    60% {\n",
              "      border-color: transparent;\n",
              "      border-right-color: var(--fill-color);\n",
              "    }\n",
              "    80% {\n",
              "      border-color: transparent;\n",
              "      border-right-color: var(--fill-color);\n",
              "      border-bottom-color: var(--fill-color);\n",
              "    }\n",
              "    90% {\n",
              "      border-color: transparent;\n",
              "      border-bottom-color: var(--fill-color);\n",
              "    }\n",
              "  }\n",
              "</style>\n",
              "\n",
              "  <script>\n",
              "    async function quickchart(key) {\n",
              "      const quickchartButtonEl =\n",
              "        document.querySelector('#' + key + ' button');\n",
              "      quickchartButtonEl.disabled = true;  // To prevent multiple clicks.\n",
              "      quickchartButtonEl.classList.add('colab-df-spinner');\n",
              "      try {\n",
              "        const charts = await google.colab.kernel.invokeFunction(\n",
              "            'suggestCharts', [key], {});\n",
              "      } catch (error) {\n",
              "        console.error('Error during call to suggestCharts:', error);\n",
              "      }\n",
              "      quickchartButtonEl.classList.remove('colab-df-spinner');\n",
              "      quickchartButtonEl.classList.add('colab-df-quickchart-complete');\n",
              "    }\n",
              "    (() => {\n",
              "      let quickchartButtonEl =\n",
              "        document.querySelector('#df-599c938f-5e45-43ed-afb7-aa9119c3f6b6 button');\n",
              "      quickchartButtonEl.style.display =\n",
              "        google.colab.kernel.accessAllowed ? 'block' : 'none';\n",
              "    })();\n",
              "  </script>\n",
              "</div>\n",
              "    </div>\n",
              "  </div>\n"
            ],
            "application/vnd.google.colaboratory.intrinsic+json": {
              "type": "dataframe",
              "variable_name": "train",
              "summary": "{\n  \"name\": \"train\",\n  \"rows\": 98490,\n  \"fields\": [\n    {\n      \"column\": \"Name\",\n      \"properties\": {\n        \"dtype\": \"category\",\n        \"num_unique_values\": 363,\n        \"samples\": [\n          \"Amit\",\n          \"Aarti\",\n          \"Shlok\"\n        ],\n        \"semantic_type\": \"\",\n        \"description\": \"\"\n      }\n    },\n    {\n      \"column\": \"Gender\",\n      \"properties\": {\n        \"dtype\": \"category\",\n        \"num_unique_values\": 2,\n        \"samples\": [\n          \"Female\",\n          \"Male\"\n        ],\n        \"semantic_type\": \"\",\n        \"description\": \"\"\n      }\n    },\n    {\n      \"column\": \"Age\",\n      \"properties\": {\n        \"dtype\": \"number\",\n        \"std\": 12.398445288839381,\n        \"min\": 18.0,\n        \"max\": 60.0,\n        \"num_unique_values\": 43,\n        \"samples\": [\n          36.0,\n          50.0\n        ],\n        \"semantic_type\": \"\",\n        \"description\": \"\"\n      }\n    },\n    {\n      \"column\": \"City\",\n      \"properties\": {\n        \"dtype\": \"category\",\n        \"num_unique_values\": 78,\n        \"samples\": [\n          \"Krinda\",\n          \"Lucknow\"\n        ],\n        \"semantic_type\": \"\",\n        \"description\": \"\"\n      }\n    },\n    {\n      \"column\": \"Working Professional or Student\",\n      \"properties\": {\n        \"dtype\": \"category\",\n        \"num_unique_values\": 2,\n        \"samples\": [\n          \"Working Professional\",\n          \"Student\"\n        ],\n        \"semantic_type\": \"\",\n        \"description\": \"\"\n      }\n    },\n    {\n      \"column\": \"Profession\",\n      \"properties\": {\n        \"dtype\": \"category\",\n        \"num_unique_values\": 60,\n        \"samples\": [\n          \"Marketing Manager\",\n          \"Civil Engineer\"\n        ],\n        \"semantic_type\": \"\",\n        \"description\": \"\"\n      }\n    },\n    {\n      \"column\": \"Academic Pressure\",\n      \"properties\": {\n        \"dtype\": \"number\",\n        \"std\": 1.3774313015895936,\n        \"min\": 1.0,\n        \"max\": 5.0,\n        \"num_unique_values\": 5,\n        \"samples\": [\n          2.0,\n          1.0\n        ],\n        \"semantic_type\": \"\",\n        \"description\": \"\"\n      }\n    },\n    {\n      \"column\": \"Work Pressure\",\n      \"properties\": {\n        \"dtype\": \"number\",\n        \"std\": 1.405681668738295,\n        \"min\": 1.0,\n        \"max\": 5.0,\n        \"num_unique_values\": 5,\n        \"samples\": [\n          4.0,\n          1.0\n        ],\n        \"semantic_type\": \"\",\n        \"description\": \"\"\n      }\n    },\n    {\n      \"column\": \"CGPA\",\n      \"properties\": {\n        \"dtype\": \"number\",\n        \"std\": 1.4641065785949299,\n        \"min\": 5.03,\n        \"max\": 10.0,\n        \"num_unique_values\": 326,\n        \"samples\": [\n          9.9,\n          5.55\n        ],\n        \"semantic_type\": \"\",\n        \"description\": \"\"\n      }\n    },\n    {\n      \"column\": \"Study Satisfaction\",\n      \"properties\": {\n        \"dtype\": \"number\",\n        \"std\": 1.359230162197804,\n        \"min\": 1.0,\n        \"max\": 5.0,\n        \"num_unique_values\": 5,\n        \"samples\": [\n          1.0,\n          4.0\n        ],\n        \"semantic_type\": \"\",\n        \"description\": \"\"\n      }\n    },\n    {\n      \"column\": \"Job Satisfaction\",\n      \"properties\": {\n        \"dtype\": \"number\",\n        \"std\": 1.417588173644739,\n        \"min\": 1.0,\n        \"max\": 5.0,\n        \"num_unique_values\": 5,\n        \"samples\": [\n          2.0,\n          5.0\n        ],\n        \"semantic_type\": \"\",\n        \"description\": \"\"\n      }\n    },\n    {\n      \"column\": \"Sleep Duration\",\n      \"properties\": {\n        \"dtype\": \"category\",\n        \"num_unique_values\": 32,\n        \"samples\": [\n          \"45-48 hours\",\n          \"9-11 hours\"\n        ],\n        \"semantic_type\": \"\",\n        \"description\": \"\"\n      }\n    },\n    {\n      \"column\": \"Dietary Habits\",\n      \"properties\": {\n        \"dtype\": \"category\",\n        \"num_unique_values\": 18,\n        \"samples\": [\n          \"Moderate\",\n          \"Healthy\"\n        ],\n        \"semantic_type\": \"\",\n        \"description\": \"\"\n      }\n    },\n    {\n      \"column\": \"Degree\",\n      \"properties\": {\n        \"dtype\": \"category\",\n        \"num_unique_values\": 97,\n        \"samples\": [\n          \"Bhopal\",\n          \"Entrepreneur\"\n        ],\n        \"semantic_type\": \"\",\n        \"description\": \"\"\n      }\n    },\n    {\n      \"column\": \"Have you ever had suicidal thoughts ?\",\n      \"properties\": {\n        \"dtype\": \"category\",\n        \"num_unique_values\": 2,\n        \"samples\": [\n          \"No\",\n          \"Yes\"\n        ],\n        \"semantic_type\": \"\",\n        \"description\": \"\"\n      }\n    },\n    {\n      \"column\": \"Work/Study Hours\",\n      \"properties\": {\n        \"dtype\": \"number\",\n        \"std\": 3.849069320743,\n        \"min\": 0.0,\n        \"max\": 12.0,\n        \"num_unique_values\": 13,\n        \"samples\": [\n          6.0,\n          8.0\n        ],\n        \"semantic_type\": \"\",\n        \"description\": \"\"\n      }\n    },\n    {\n      \"column\": \"Financial Stress\",\n      \"properties\": {\n        \"dtype\": \"number\",\n        \"std\": 1.4140068209862329,\n        \"min\": 1.0,\n        \"max\": 5.0,\n        \"num_unique_values\": 5,\n        \"samples\": [\n          2.0,\n          4.0\n        ],\n        \"semantic_type\": \"\",\n        \"description\": \"\"\n      }\n    },\n    {\n      \"column\": \"Family History of Mental Illness\",\n      \"properties\": {\n        \"dtype\": \"category\",\n        \"num_unique_values\": 2,\n        \"samples\": [\n          \"Yes\",\n          \"No\"\n        ],\n        \"semantic_type\": \"\",\n        \"description\": \"\"\n      }\n    },\n    {\n      \"column\": \"Depression\",\n      \"properties\": {\n        \"dtype\": \"number\",\n        \"std\": 0,\n        \"min\": 0,\n        \"max\": 1,\n        \"num_unique_values\": 2,\n        \"samples\": [\n          0,\n          1\n        ],\n        \"semantic_type\": \"\",\n        \"description\": \"\"\n      }\n    }\n  ]\n}"
            }
          },
          "metadata": {},
          "execution_count": 625
        }
      ]
    },
    {
      "cell_type": "code",
      "source": [
        "train.info()"
      ],
      "metadata": {
        "colab": {
          "base_uri": "https://localhost:8080/"
        },
        "id": "p14iPtdYbLev",
        "outputId": "579b3944-591e-4feb-8491-ed8daf92c203"
      },
      "execution_count": null,
      "outputs": [
        {
          "output_type": "stream",
          "name": "stdout",
          "text": [
            "<class 'pandas.core.frame.DataFrame'>\n",
            "RangeIndex: 98490 entries, 0 to 98489\n",
            "Data columns (total 19 columns):\n",
            " #   Column                                 Non-Null Count  Dtype  \n",
            "---  ------                                 --------------  -----  \n",
            " 0   Name                                   98490 non-null  object \n",
            " 1   Gender                                 98490 non-null  object \n",
            " 2   Age                                    98490 non-null  float64\n",
            " 3   City                                   98490 non-null  object \n",
            " 4   Working Professional or Student        98490 non-null  object \n",
            " 5   Profession                             72751 non-null  object \n",
            " 6   Academic Pressure                      19545 non-null  float64\n",
            " 7   Work Pressure                          78932 non-null  float64\n",
            " 8   CGPA                                   19545 non-null  float64\n",
            " 9   Study Satisfaction                     19544 non-null  float64\n",
            " 10  Job Satisfaction                       78936 non-null  float64\n",
            " 11  Sleep Duration                         98490 non-null  object \n",
            " 12  Dietary Habits                         98486 non-null  object \n",
            " 13  Degree                                 98488 non-null  object \n",
            " 14  Have you ever had suicidal thoughts ?  98490 non-null  object \n",
            " 15  Work/Study Hours                       98490 non-null  float64\n",
            " 16  Financial Stress                       98489 non-null  float64\n",
            " 17  Family History of Mental Illness       98490 non-null  object \n",
            " 18  Depression                             98490 non-null  int64  \n",
            "dtypes: float64(8), int64(1), object(10)\n",
            "memory usage: 14.3+ MB\n"
          ]
        }
      ]
    },
    {
      "cell_type": "code",
      "source": [
        "for column in train.columns:\n",
        "    unique_values = train[column].unique()\n",
        "    print(f\"Столбец: {column}\")\n",
        "    print(f\"Уникальные значения ({len(unique_values)}): {unique_values}\")\n",
        "    print(\"-\" * 50)"
      ],
      "metadata": {
        "colab": {
          "base_uri": "https://localhost:8080/"
        },
        "id": "lP5sxfwmb0NF",
        "outputId": "07554a36-d487-4a8d-b102-bc970b4ffa97"
      },
      "execution_count": null,
      "outputs": [
        {
          "output_type": "stream",
          "name": "stdout",
          "text": [
            "Столбец: Name\n",
            "Уникальные значения (363): ['Chirag' 'Armaan' 'Anirudh' 'Vivan' 'Ritik' 'Aaradhya' 'Naina' 'Zoya'\n",
            " 'Nishant' 'Abhinav' 'Aarav' 'Divya' 'Aditya' 'Vidhi' 'Rashi' 'Shlok'\n",
            " 'Rupal' 'Arnav' 'Ira' 'Rohan' 'Sanya' 'Ayaan' 'Kunal' 'Advait'\n",
            " 'Raghavendra' 'Vaishnavi' 'Pranav' 'Kashish' 'Ishaani' 'Anjali' 'Anand'\n",
            " 'Aryan' 'Tushar' 'Aarti' 'Zara' 'Ishan' 'Anushka' 'Pari' 'Sanket' 'Rahil'\n",
            " 'Vihaan' 'Gauri' 'Aditi' 'Barkha' 'Ila' 'Vrinda' 'Arjun' 'Navya' 'Aahana'\n",
            " 'Esha' 'Siddhi' 'Harsha' 'Yashvi' 'Siddhesh' 'Ayush' 'Atharv' 'Abhishek'\n",
            " 'Palak' 'Arya' 'Ivaan' 'Aariv' 'Prisha' 'Nikita' 'Aniket' 'Damini' 'Arav'\n",
            " 'Pihu' 'Shiv' 'Kartik' 'Darsh' 'Tara' 'Garima' 'Tejas' 'Mahi' 'Anvi'\n",
            " 'Leela' 'Pratyush' 'Rishi' 'Yamini' 'Keshav' 'Pooja' 'Vidya' 'Vani'\n",
            " 'Nirvaan' 'Jhanvi' 'Kiran' 'Jiya' 'Yogesh' 'Shreya' 'Monika' 'Kush'\n",
            " 'Ritika' 'Nalini' 'Kartikeya' 'Vanya' 'Ranveer' 'Nandini' 'Aanchal'\n",
            " 'Shruti' 'Saanvi' 'Riya' 'Rupak' 'Pallavi' 'Virat' 'Saurav' 'Aishwarya'\n",
            " 'Shivam' 'Vivaan' 'Harsh' 'Yash' 'Veda' 'Apoorva' 'Mithila' 'Reyansh'\n",
            " 'Shrey' 'Sai' 'Vikram' 'Raghav' 'Dhruv' 'Neha' 'Shivansh' 'Rajat'\n",
            " 'Aarush' 'Vedant' 'Prachi' 'Shaurya' 'Ayansh' 'Tanisha' 'Gaurav' 'Satyam'\n",
            " 'Ansh' 'Samar' 'Samaira' 'Eshita' 'Deepak' 'Hrithik' 'Aarohi' 'Gagan'\n",
            " 'Manan' 'Ritvik' 'Aadhya' 'Mayank' 'Simran' 'Kian' 'Raunak' 'Anaya'\n",
            " 'Charvi' 'Harshil' 'Chhavi' 'Vibha' 'Kabir' 'Krishna' 'Rhea' 'Isha'\n",
            " 'Kriti' 'Tanvi' 'Khushi' 'Parth' 'Siddharth' 'Yuvraj' 'Tanmay' 'Manvi'\n",
            " 'Anika' 'Amit' 'Lavanya' 'Dev' 'Janvi' 'Jai' 'Asha' 'Kavya' 'Aarya'\n",
            " 'Pratham' 'Sanjeev' 'Soham' 'Ishaan' 'Mihir' 'Ishwar' 'Rudra' 'Trisha'\n",
            " 'Kiara' 'Om' 'Nisha' 'Mukund' 'Jathesh' 'Himani' 'Rudransh' 'Kanika'\n",
            " 'Nikhil' 'Sneha' 'Radhika' 'Ishita' 'Lata' 'Mahika' 'Rajveer' 'Aakash'\n",
            " 'Bhavesh' 'Mira' 'Tanya' 'Diya' 'Srishti' 'Tina' 'Varun' 'Suhani'\n",
            " 'Karishma' 'Lakshay' 'Utkarsh' 'Bhavna' 'Jasmine' 'Aaransh' 'Neil'\n",
            " 'Kalyan' 'Vaanya' 'Rupa' 'Sara' 'Nakul' 'Harini' 'Avni' 'Shanaya'\n",
            " 'Kartal' 'Aanya' 'Niki' 'Mahir' 'Vidvi' 'Shivan' 'Ronnie' 'Sansh' 'Aarvi'\n",
            " 'Meera' 'Shivivaam' 'Aiya' 'Aan' 'Jush' 'Vohi' 'Ishlok' 'Kolkata'\n",
            " 'Shashi' 'K. Kavya' 'Anjun' 'Siddh' 'Vashi' 'Ryouvik' 'Rani' 'Nhanini'\n",
            " 'Ritak' 'Rohik' 'Rivaan' 'Mahav' 'Rupat' 'R.Com' 'Kartika' 'Vhaani'\n",
            " 'Eirini' 'Kanisha' 'A.Ed' 'Nishi' 'Rajya' 'Nanya' 'Ishma' 'Prandini'\n",
            " 'Aavya' 'Srinagar' 'Adiya' 'Anisha' 'Vidra' 'Aarash' 'Aikash' 'Thane'\n",
            " 'Vidha' 'Eisha' 'Rupadhya' 'Rupar' 'Prishti' 'Aariket' 'Zegmay' 'Rupai'\n",
            " 'Varanasi' 'Rajankot' 'Vlaan' 'Harshav' 'Yurav' 'Rupil' 'Anya' 'Raghavvi'\n",
            " 'Aisha' 'Aarun' 'Vavya' 'Virar' 'Chrinda' 'Nhanvi' 'Tanak' 'Prilak'\n",
            " 'Jaish' 'Tarsh' 'Krey' 'Ayhan' 'Rika' 'Hra' 'Raghavik' 'Aarat' 'Naly'\n",
            " 'Ishaam' 'Anohi' 'Prayat' 'Jhaan' 'Haurav' 'Rietal' 'Anariv' 'Aarla'\n",
            " 'Shivar' 'Kupa' 'K.Pharm' 'Nya' 'Randik' 'Rudegrav' 'Kike' 'Jhav' 'Aniv'\n",
            " 'Vasai-Virar' 'Adachi' 'Aarsh' 'Anahk' 'Aarani' 'Hreya' 'Rudrithik'\n",
            " 'Shivak' 'Harshand' 'Anarush' 'Vita' 'Parvi' 'Rudrey' 'Aarand' 'M.Com'\n",
            " 'Tinmay' 'Irit' 'Ayut' 'M.Tech' 'Shir' 'Aanket' 'Anakash' 'Ayoub'\n",
            " 'Nanchal' 'Rupika' 'Anhil' '18' 'Anishi' 'Rai' 'Kani' 'Ayash' 'Ariti'\n",
            " 'Tohar' 'Rietvik' 'BE' 'Pariv' 'Parha' 'Plumber' 'Harshaun' 'Rhesh'\n",
            " 'Manik' 'Shivsh' 'Anish' 'Aieter' 'Shaina' 'Sharth']\n",
            "--------------------------------------------------\n",
            "Столбец: Gender\n",
            "Уникальные значения (2): ['Male' 'Female']\n",
            "--------------------------------------------------\n",
            "Столбец: Age\n",
            "Уникальные значения (43): [29. 57. 56. 38. 32. 25. 49. 28. 40. 42. 48. 20. 31. 47. 59. 55. 43. 33.\n",
            " 26. 60. 24. 34. 35. 22. 50. 18. 52. 44. 39. 53. 30. 21. 45. 51. 19. 27.\n",
            " 46. 36. 58. 23. 54. 37. 41.]\n",
            "--------------------------------------------------\n",
            "Столбец: City\n",
            "Уникальные значения (78): ['Lucknow' 'Mumbai' 'Kalyan' 'Varanasi' 'Ahmedabad' 'Delhi' 'Rajkot'\n",
            " 'Kolkata' 'Agra' 'Hyderabad' 'Srinagar' 'Indore' 'Ghaziabad' 'Ludhiana'\n",
            " 'Patna' 'Jaipur' 'Thane' 'Vasai-Virar' 'Meerut' 'Faridabad' 'Nashik'\n",
            " 'Vadodara' 'Chennai' 'Nagpur' 'Kanpur' 'Pune' 'Visakhapatnam' 'Bhopal'\n",
            " 'Bangalore' 'Surat' 'Molkata' 'Nandini' 'ME' 'Krinda' 'Ayush' 'Kashish'\n",
            " 'Mahi' 'Ayansh' 'City' 'Pratyush' 'Nalyan' 'M.Com' 'Jhanvi' 'Khushi'\n",
            " 'Mihir' 'Kibara' 'Tushar' 'Aaradhya' 'Aditya' '3.0' 'Kashk' 'Vidhi'\n",
            " 'Harsha' 'Atharv' 'Gurgaon' 'Raghavendra' 'Morena' 'Moreadhyay' 'Vidya'\n",
            " 'Nalini' 'Tolkata' 'Less Delhi' 'Keshav' 'Vaanya' 'Itheg' 'Anvi' 'Mira'\n",
            " 'Chhavi' 'Armaan' 'Khaziabad' 'Kagan' 'Bhavna' 'Unirar' 'Gaurav' 'Saanvi'\n",
            " 'Researcher' 'Less than 5 Kalyan' 'Galesabad']\n",
            "--------------------------------------------------\n",
            "Столбец: Working Professional or Student\n",
            "Уникальные значения (2): ['Student' 'Working Professional']\n",
            "--------------------------------------------------\n",
            "Столбец: Profession\n",
            "Уникальные значения (61): [nan 'Marketing Manager' 'HR Manager' 'Pharmacist' 'Data Scientist' 'Chef'\n",
            " 'Civil Engineer' 'Architect' 'Consultant' 'Teacher' 'Financial Analyst'\n",
            " 'Digital Marketer' 'Plumber' 'Content Writer' 'Educational Consultant'\n",
            " 'Software Engineer' 'Accountant' 'Entrepreneur' 'Researcher'\n",
            " 'Electrician' 'Business Analyst' 'Investment Banker' 'Pilot'\n",
            " 'UX/UI Designer' 'Customer Support' 'Graphic Designer' 'Chemist' 'Judge'\n",
            " 'Lawyer' 'Sales Executive' 'Doctor' 'Manager' 'Research Analyst'\n",
            " 'Finanancial Analyst' 'Patna' 'Travel Consultant' 'Mechanical Engineer'\n",
            " 'BCA' 'Unemployed' 'Student' 'Analyst' 'MBBS' 'Medical Doctor' 'LLM'\n",
            " 'Profession' 'FamilyVirar' 'PhD' 'MBA' 'BBA' 'M.Ed' 'Academic' 'Nagpur'\n",
            " 'Yogesh' 'Moderate' 'Working Professional' 'Pranav' 'City Manager' 'Dev'\n",
            " 'Yuvraj' 'B.Com' 'BE']\n",
            "--------------------------------------------------\n",
            "Столбец: Academic Pressure\n",
            "Уникальные значения (6): [ 3. nan  2.  5.  4.  1.]\n",
            "--------------------------------------------------\n",
            "Столбец: Work Pressure\n",
            "Уникальные значения (6): [nan  5.  4.  3.  2.  1.]\n",
            "--------------------------------------------------\n",
            "Столбец: CGPA\n",
            "Уникальные значения (327): [ 8.59       nan  8.5     8.58    8.03    9.66    9.44    9.89    8.24\n",
            "  7.5     6.51    7.28    9.96    6.78    6.91    7.85    7.49    9.41\n",
            "  9.36    5.56    5.46    5.87    6.16    9.97    9.21    5.64    7.87\n",
            "  9.24    8.95    8.91    7.53    5.86    9.63    5.08    5.17    8.62\n",
            "  7.52    7.03    9.34    9.39    8.27    9.71    8.04    9.02    8.09\n",
            "  7.77    5.32    8.79    9.1     7.25    6.      9.72    5.03    5.74\n",
            "  7.22    7.68    8.7     5.59    8.89    5.42    9.29    6.02    7.38\n",
            "  6.92    6.83    6.74    5.3     7.47    5.66    8.73    5.79    6.37\n",
            "  8.88    8.96    8.37    6.03    9.92    9.05    7.48    8.      5.11\n",
            "  8.11    7.1     7.26    7.09    5.85    5.51    8.39    5.99    9.98\n",
            "  8.44    8.14    9.54    5.58    8.21    9.37    6.38    9.56    6.25\n",
            "  9.94    6.63    8.35    9.19    5.57    9.85    8.74    5.16    9.7\n",
            "  9.95    9.67    5.9     5.55    6.28    7.7     9.6     6.1     6.76\n",
            "  8.17    7.08    6.86    5.7     9.78    6.89    8.52    7.51    8.63\n",
            "  5.76    7.13    6.36    5.12    9.91    5.88    5.37    8.93   10.\n",
            "  6.21    5.27    8.53    7.74    8.54    9.79    7.24    7.21    6.17\n",
            "  8.9     7.3     5.65    6.08    6.5     6.61    6.19    7.92    5.83\n",
            "  9.93    6.53    5.61    9.86    6.88    9.11    5.71    6.84    8.81\n",
            "  5.6     7.14    7.64    8.94    5.68    7.17    7.88    7.12    9.87\n",
            "  8.65    6.7     9.84    9.5     8.78    5.77    8.08    9.49    5.41\n",
            "  6.56    7.46    6.79    8.77    6.73    7.      8.75    7.94    8.85\n",
            "  9.74    6.39    8.38    6.75    9.17    7.04    6.42    9.88    9.13\n",
            "  9.06    8.92    8.46    8.64    8.28    7.07    6.85    5.35    9.03\n",
            "  8.49    8.42    6.81    7.37    5.82    7.72    8.25    6.26    6.47\n",
            "  7.39    7.91    5.48    8.71    7.75    5.91    9.4     7.15    5.26\n",
            "  5.47    8.13    9.33    9.59    9.42    6.59    5.69    5.75    7.8\n",
            "  6.82    9.9     6.23    7.9     5.97    8.43    5.39    5.45    5.14\n",
            "  6.99    6.52    6.04    9.04    5.72    7.34    6.27    9.31    6.29\n",
            "  8.61    7.43    8.29    5.38    6.65    6.41    9.69    7.32    8.83\n",
            "  8.23    9.25    7.35    7.27    5.98    7.45    7.83    5.8     8.69\n",
            "  9.82    8.32    7.82    5.67    7.23    8.56    7.02    7.99    8.47\n",
            "  7.11    6.95    9.43    7.78    9.01    5.52    6.69    8.98    6.33\n",
            "  5.44    7.61    6.35    7.6     5.1     5.24    9.46    8.16    7.06\n",
            "  8.4     8.1     5.81    8.19    5.89    9.26    8.01    5.25    8.97\n",
            "  9.47    6.46    8.55    7.79    5.84    6.09    8.07    6.05    7.71\n",
            "  5.09    5.06    9.16    6.32    9.12    6.77    6.24    6.44    7.0625\n",
            "  6.64    7.65    5.78  ]\n",
            "--------------------------------------------------\n",
            "Столбец: Study Satisfaction\n",
            "Уникальные значения (6): [ 2. nan  1.  5.  3.  4.]\n",
            "--------------------------------------------------\n",
            "Столбец: Job Satisfaction\n",
            "Уникальные значения (6): [nan  3.  2.  1.  4.  5.]\n",
            "--------------------------------------------------\n",
            "Столбец: Sleep Duration\n",
            "Уникальные значения (32): ['7-8 hours' 'More than 8 hours' '5-6 hours' 'Less than 5 hours'\n",
            " '2-3 hours' '40-45 hours' '6-7 hours' '4-5 hours' '6-8 hours' '4-6 hours'\n",
            " '3-4 hours' '1-6 hours' 'Pune' 'than 5 hours' 'No' '9-11 hours' '8 hours'\n",
            " 'Indore' '45' '9-5 hours' '1-2 hours' 'Work_Study_Hours' 'Unhealthy'\n",
            " '49 hours' '8-9 hours' 'Moderate' '10-11 hours' 'Sleep_Duration'\n",
            " '1-3 hours' '45-48 hours' '9-6 hours' '3-6 hours']\n",
            "--------------------------------------------------\n",
            "Столбец: Dietary Habits\n",
            "Уникальные значения (19): ['Moderate' 'Healthy' 'Unhealthy' '1.0' 'More Healthy' 'BSc' nan 'No'\n",
            " 'Male' 'No Healthy' 'Electrician' 'Vegas' 'Yes' 'Mihir' 'Hormonal' '3'\n",
            " 'Gender' 'Less Healthy' 'Less than Healthy']\n",
            "--------------------------------------------------\n",
            "Столбец: Degree\n",
            "Уникальные значения (98): ['MA' 'B.Com' 'MCA' 'MBBS' 'BE' 'BHM' 'B.Arch' 'BSc' 'M.Com' 'Class 12'\n",
            " 'M.Pharm' 'BBA' 'ME' 'B.Ed' 'MD' 'LLB' 'MBA' 'M.Ed' 'BCA' 'MSc' 'B.Pharm'\n",
            " 'BA' 'M.Tech' 'B.Tech' 'PhD' 'LLM' 'MHM' 'M' 'Jhanvi' 'E.Tech' 'BArch'\n",
            " 'LLBA' 'Veda' 'Plumber' '8.56' 'Business Analyst' 'L.Ed' 'B' '20'\n",
            " 'Nalini' 'Entrepreneur' 'BPA' 'Doctor' 'Marsh' 'BH' 'LLCom'\n",
            " 'UX/UI Designer' 'B.03' 'Data Scientist' 'BEd' 'LLS' 'LL.Com' 'Brit'\n",
            " 'LLEd' 'Unite' 'B.Student' 'Mthanya' '0' 'MPA' 'MTech' 'Brithika' 'Lata'\n",
            " 'Bhopal' 'HR Manager' nan 'M.Arch' 'Mahika' 'Degree' 'Vivaan' 'LLTech'\n",
            " 'LL B.Ed' 'BB' 'Badhya' 'B BA' '5.56' 'LCA' 'B.3.79' 'Bhavesh' 'BPharm'\n",
            " 'N.Pharm' 'MEd' 'B B.Com' 'P.Com' 'Kalyan' 'S.Arch' 'H_Pharm' '5.61'\n",
            " 'M_Tech' 'S.Tech' 'RCA' 'B.Sc' 'Advait' 'Ritik' 'ACA'\n",
            " 'M. Business Analyst' 'HCA' 'Working Professional' 'Pihu']\n",
            "--------------------------------------------------\n",
            "Столбец: Have you ever had suicidal thoughts ?\n",
            "Уникальные значения (2): ['Yes' 'No']\n",
            "--------------------------------------------------\n",
            "Столбец: Work/Study Hours\n",
            "Уникальные значения (13): [ 1.  4.  9.  2.  0. 12.  3. 11.  7.  8. 10.  6.  5.]\n",
            "--------------------------------------------------\n",
            "Столбец: Financial Stress\n",
            "Уникальные значения (6): [ 3.  2.  1.  5.  4. nan]\n",
            "--------------------------------------------------\n",
            "Столбец: Family History of Mental Illness\n",
            "Уникальные значения (2): ['No' 'Yes']\n",
            "--------------------------------------------------\n",
            "Столбец: Depression\n",
            "Уникальные значения (2): [1 0]\n",
            "--------------------------------------------------\n"
          ]
        }
      ]
    },
    {
      "cell_type": "markdown",
      "source": [
        "Классы несбалансированны"
      ],
      "metadata": {
        "id": "ZLZITiyPUMyO"
      }
    },
    {
      "cell_type": "code",
      "source": [
        "train['Depression'].value_counts()"
      ],
      "metadata": {
        "colab": {
          "base_uri": "https://localhost:8080/",
          "height": 178
        },
        "id": "mhNfARt4j43V",
        "outputId": "97bd3baf-1db8-468f-caf2-909f081dcdbb"
      },
      "execution_count": null,
      "outputs": [
        {
          "output_type": "execute_result",
          "data": {
            "text/plain": [
              "Depression\n",
              "0    80593\n",
              "1    17897\n",
              "Name: count, dtype: int64"
            ],
            "text/html": [
              "<div>\n",
              "<style scoped>\n",
              "    .dataframe tbody tr th:only-of-type {\n",
              "        vertical-align: middle;\n",
              "    }\n",
              "\n",
              "    .dataframe tbody tr th {\n",
              "        vertical-align: top;\n",
              "    }\n",
              "\n",
              "    .dataframe thead th {\n",
              "        text-align: right;\n",
              "    }\n",
              "</style>\n",
              "<table border=\"1\" class=\"dataframe\">\n",
              "  <thead>\n",
              "    <tr style=\"text-align: right;\">\n",
              "      <th></th>\n",
              "      <th>count</th>\n",
              "    </tr>\n",
              "    <tr>\n",
              "      <th>Depression</th>\n",
              "      <th></th>\n",
              "    </tr>\n",
              "  </thead>\n",
              "  <tbody>\n",
              "    <tr>\n",
              "      <th>0</th>\n",
              "      <td>80593</td>\n",
              "    </tr>\n",
              "    <tr>\n",
              "      <th>1</th>\n",
              "      <td>17897</td>\n",
              "    </tr>\n",
              "  </tbody>\n",
              "</table>\n",
              "</div><br><label><b>dtype:</b> int64</label>"
            ]
          },
          "metadata": {},
          "execution_count": 628
        }
      ]
    },
    {
      "cell_type": "markdown",
      "source": [
        "Удаление столбцов, которые не влияют на целевую переменную или ухудшают метрики"
      ],
      "metadata": {
        "id": "GcwpkHJrUgKp"
      }
    },
    {
      "cell_type": "code",
      "source": [
        "train = train.drop('City', axis=1)\n",
        "train = train.drop('Degree', axis=1)\n",
        "train = train.drop('Gender', axis=1)\n",
        "train = train.drop('CGPA', axis=1)\n",
        "train = train.drop('Name', axis=1)"
      ],
      "metadata": {
        "id": "gyiqAaNccTiw"
      },
      "execution_count": null,
      "outputs": []
    },
    {
      "cell_type": "markdown",
      "source": [
        "Заполнение 0 столбцов Work B Academic Pressure в зависимости от того, студент это или работник. Также добавление новой профессии - студент"
      ],
      "metadata": {
        "id": "rw0AQjPAYaBJ"
      }
    },
    {
      "cell_type": "code",
      "source": [
        "train.loc[train['Working Professional or Student'] == 'Working Professional', 'Academic Pressure'] = 0\n",
        "train.loc[train['Working Professional or Student'] == 'Student', 'Work Pressure'] = 0\n",
        "train.loc[train['Working Professional or Student'] == 'Student', 'Profession'] = 'Student'"
      ],
      "metadata": {
        "id": "VDgA2mb95Dps"
      },
      "execution_count": null,
      "outputs": []
    },
    {
      "cell_type": "code",
      "source": [
        "train[train['Working Professional or Student'] == 'Student'].isna().sum()"
      ],
      "metadata": {
        "colab": {
          "base_uri": "https://localhost:8080/",
          "height": 523
        },
        "id": "A_N1fz3d9Qdn",
        "outputId": "a0a520f5-bc1f-4cc9-b8ff-6681d0aa1605"
      },
      "execution_count": null,
      "outputs": [
        {
          "output_type": "execute_result",
          "data": {
            "text/plain": [
              "Age                                          0\n",
              "Working Professional or Student              0\n",
              "Profession                                   0\n",
              "Academic Pressure                            6\n",
              "Work Pressure                                0\n",
              "Study Satisfaction                           7\n",
              "Job Satisfaction                         19542\n",
              "Sleep Duration                               0\n",
              "Dietary Habits                               2\n",
              "Have you ever had suicidal thoughts ?        0\n",
              "Work/Study Hours                             0\n",
              "Financial Stress                             1\n",
              "Family History of Mental Illness             0\n",
              "Depression                                   0\n",
              "dtype: int64"
            ],
            "text/html": [
              "<div>\n",
              "<style scoped>\n",
              "    .dataframe tbody tr th:only-of-type {\n",
              "        vertical-align: middle;\n",
              "    }\n",
              "\n",
              "    .dataframe tbody tr th {\n",
              "        vertical-align: top;\n",
              "    }\n",
              "\n",
              "    .dataframe thead th {\n",
              "        text-align: right;\n",
              "    }\n",
              "</style>\n",
              "<table border=\"1\" class=\"dataframe\">\n",
              "  <thead>\n",
              "    <tr style=\"text-align: right;\">\n",
              "      <th></th>\n",
              "      <th>0</th>\n",
              "    </tr>\n",
              "  </thead>\n",
              "  <tbody>\n",
              "    <tr>\n",
              "      <th>Age</th>\n",
              "      <td>0</td>\n",
              "    </tr>\n",
              "    <tr>\n",
              "      <th>Working Professional or Student</th>\n",
              "      <td>0</td>\n",
              "    </tr>\n",
              "    <tr>\n",
              "      <th>Profession</th>\n",
              "      <td>0</td>\n",
              "    </tr>\n",
              "    <tr>\n",
              "      <th>Academic Pressure</th>\n",
              "      <td>6</td>\n",
              "    </tr>\n",
              "    <tr>\n",
              "      <th>Work Pressure</th>\n",
              "      <td>0</td>\n",
              "    </tr>\n",
              "    <tr>\n",
              "      <th>Study Satisfaction</th>\n",
              "      <td>7</td>\n",
              "    </tr>\n",
              "    <tr>\n",
              "      <th>Job Satisfaction</th>\n",
              "      <td>19542</td>\n",
              "    </tr>\n",
              "    <tr>\n",
              "      <th>Sleep Duration</th>\n",
              "      <td>0</td>\n",
              "    </tr>\n",
              "    <tr>\n",
              "      <th>Dietary Habits</th>\n",
              "      <td>2</td>\n",
              "    </tr>\n",
              "    <tr>\n",
              "      <th>Have you ever had suicidal thoughts ?</th>\n",
              "      <td>0</td>\n",
              "    </tr>\n",
              "    <tr>\n",
              "      <th>Work/Study Hours</th>\n",
              "      <td>0</td>\n",
              "    </tr>\n",
              "    <tr>\n",
              "      <th>Financial Stress</th>\n",
              "      <td>1</td>\n",
              "    </tr>\n",
              "    <tr>\n",
              "      <th>Family History of Mental Illness</th>\n",
              "      <td>0</td>\n",
              "    </tr>\n",
              "    <tr>\n",
              "      <th>Depression</th>\n",
              "      <td>0</td>\n",
              "    </tr>\n",
              "  </tbody>\n",
              "</table>\n",
              "</div><br><label><b>dtype:</b> int64</label>"
            ]
          },
          "metadata": {},
          "execution_count": 631
        }
      ]
    },
    {
      "cell_type": "code",
      "source": [
        "train[train['Working Professional or Student'] == 'Working Professional'].isna().sum()"
      ],
      "metadata": {
        "colab": {
          "base_uri": "https://localhost:8080/",
          "height": 523
        },
        "id": "I5ZLSAmB-4GI",
        "outputId": "bf897494-6a45-457e-8d29-01b624218299"
      },
      "execution_count": null,
      "outputs": [
        {
          "output_type": "execute_result",
          "data": {
            "text/plain": [
              "Age                                          0\n",
              "Working Professional or Student              0\n",
              "Profession                                6216\n",
              "Academic Pressure                            0\n",
              "Work Pressure                               14\n",
              "Study Satisfaction                       78939\n",
              "Job Satisfaction                            12\n",
              "Sleep Duration                               0\n",
              "Dietary Habits                               2\n",
              "Have you ever had suicidal thoughts ?        0\n",
              "Work/Study Hours                             0\n",
              "Financial Stress                             0\n",
              "Family History of Mental Illness             0\n",
              "Depression                                   0\n",
              "dtype: int64"
            ],
            "text/html": [
              "<div>\n",
              "<style scoped>\n",
              "    .dataframe tbody tr th:only-of-type {\n",
              "        vertical-align: middle;\n",
              "    }\n",
              "\n",
              "    .dataframe tbody tr th {\n",
              "        vertical-align: top;\n",
              "    }\n",
              "\n",
              "    .dataframe thead th {\n",
              "        text-align: right;\n",
              "    }\n",
              "</style>\n",
              "<table border=\"1\" class=\"dataframe\">\n",
              "  <thead>\n",
              "    <tr style=\"text-align: right;\">\n",
              "      <th></th>\n",
              "      <th>0</th>\n",
              "    </tr>\n",
              "  </thead>\n",
              "  <tbody>\n",
              "    <tr>\n",
              "      <th>Age</th>\n",
              "      <td>0</td>\n",
              "    </tr>\n",
              "    <tr>\n",
              "      <th>Working Professional or Student</th>\n",
              "      <td>0</td>\n",
              "    </tr>\n",
              "    <tr>\n",
              "      <th>Profession</th>\n",
              "      <td>6216</td>\n",
              "    </tr>\n",
              "    <tr>\n",
              "      <th>Academic Pressure</th>\n",
              "      <td>0</td>\n",
              "    </tr>\n",
              "    <tr>\n",
              "      <th>Work Pressure</th>\n",
              "      <td>14</td>\n",
              "    </tr>\n",
              "    <tr>\n",
              "      <th>Study Satisfaction</th>\n",
              "      <td>78939</td>\n",
              "    </tr>\n",
              "    <tr>\n",
              "      <th>Job Satisfaction</th>\n",
              "      <td>12</td>\n",
              "    </tr>\n",
              "    <tr>\n",
              "      <th>Sleep Duration</th>\n",
              "      <td>0</td>\n",
              "    </tr>\n",
              "    <tr>\n",
              "      <th>Dietary Habits</th>\n",
              "      <td>2</td>\n",
              "    </tr>\n",
              "    <tr>\n",
              "      <th>Have you ever had suicidal thoughts ?</th>\n",
              "      <td>0</td>\n",
              "    </tr>\n",
              "    <tr>\n",
              "      <th>Work/Study Hours</th>\n",
              "      <td>0</td>\n",
              "    </tr>\n",
              "    <tr>\n",
              "      <th>Financial Stress</th>\n",
              "      <td>0</td>\n",
              "    </tr>\n",
              "    <tr>\n",
              "      <th>Family History of Mental Illness</th>\n",
              "      <td>0</td>\n",
              "    </tr>\n",
              "    <tr>\n",
              "      <th>Depression</th>\n",
              "      <td>0</td>\n",
              "    </tr>\n",
              "  </tbody>\n",
              "</table>\n",
              "</div><br><label><b>dtype:</b> int64</label>"
            ]
          },
          "metadata": {},
          "execution_count": 632
        }
      ]
    },
    {
      "cell_type": "markdown",
      "source": [
        "Заполнение соответсвующих nan значений медианой у студентов в стобцах связанных с учебой, у работающих в столбцах связанных с работой"
      ],
      "metadata": {
        "id": "rLmZED8qYqnq"
      }
    },
    {
      "cell_type": "code",
      "source": [
        "std_mid = train['Study Satisfaction'].median()\n",
        "acd_mid = train['Academic Pressure'].median()\n",
        "job_mid = train['Job Satisfaction'].median()\n",
        "work_mid = train['Work Pressure'].median()"
      ],
      "metadata": {
        "id": "mXenJkax9x3x"
      },
      "execution_count": null,
      "outputs": []
    },
    {
      "cell_type": "code",
      "source": [
        "train.loc[(train['Study Satisfaction'].isna()) & (train['Working Professional or Student']  == 'Student'), 'Study Satisfaction'] = std_mid\n",
        "train.loc[(train['Academic Pressure'].isna()) & (train['Working Professional or Student']  == 'Student'), 'Academic Pressure'] = acd_mid\n",
        "train.loc[(train['Job Satisfaction'].isna()) & (train['Working Professional or Student']  == 'Working Professional'), 'Job Satisfaction'] = job_mid\n",
        "train.loc[(train['Work Pressure'].isna()) & (train['Working Professional or Student']  == 'Working Professional'), 'Work Pressure'] = work_mid"
      ],
      "metadata": {
        "id": "RXcge6ol9TJG"
      },
      "execution_count": null,
      "outputs": []
    },
    {
      "cell_type": "code",
      "source": [
        "train[train['Working Professional or Student'] == 'Student'].isna().sum()"
      ],
      "metadata": {
        "colab": {
          "base_uri": "https://localhost:8080/",
          "height": 523
        },
        "id": "ygrIQzR_9qwx",
        "outputId": "fd1a84a5-4b91-4faf-e268-37dfc5bacb5e"
      },
      "execution_count": null,
      "outputs": [
        {
          "output_type": "execute_result",
          "data": {
            "text/plain": [
              "Age                                          0\n",
              "Working Professional or Student              0\n",
              "Profession                                   0\n",
              "Academic Pressure                            0\n",
              "Work Pressure                                0\n",
              "Study Satisfaction                           0\n",
              "Job Satisfaction                         19542\n",
              "Sleep Duration                               0\n",
              "Dietary Habits                               2\n",
              "Have you ever had suicidal thoughts ?        0\n",
              "Work/Study Hours                             0\n",
              "Financial Stress                             1\n",
              "Family History of Mental Illness             0\n",
              "Depression                                   0\n",
              "dtype: int64"
            ],
            "text/html": [
              "<div>\n",
              "<style scoped>\n",
              "    .dataframe tbody tr th:only-of-type {\n",
              "        vertical-align: middle;\n",
              "    }\n",
              "\n",
              "    .dataframe tbody tr th {\n",
              "        vertical-align: top;\n",
              "    }\n",
              "\n",
              "    .dataframe thead th {\n",
              "        text-align: right;\n",
              "    }\n",
              "</style>\n",
              "<table border=\"1\" class=\"dataframe\">\n",
              "  <thead>\n",
              "    <tr style=\"text-align: right;\">\n",
              "      <th></th>\n",
              "      <th>0</th>\n",
              "    </tr>\n",
              "  </thead>\n",
              "  <tbody>\n",
              "    <tr>\n",
              "      <th>Age</th>\n",
              "      <td>0</td>\n",
              "    </tr>\n",
              "    <tr>\n",
              "      <th>Working Professional or Student</th>\n",
              "      <td>0</td>\n",
              "    </tr>\n",
              "    <tr>\n",
              "      <th>Profession</th>\n",
              "      <td>0</td>\n",
              "    </tr>\n",
              "    <tr>\n",
              "      <th>Academic Pressure</th>\n",
              "      <td>0</td>\n",
              "    </tr>\n",
              "    <tr>\n",
              "      <th>Work Pressure</th>\n",
              "      <td>0</td>\n",
              "    </tr>\n",
              "    <tr>\n",
              "      <th>Study Satisfaction</th>\n",
              "      <td>0</td>\n",
              "    </tr>\n",
              "    <tr>\n",
              "      <th>Job Satisfaction</th>\n",
              "      <td>19542</td>\n",
              "    </tr>\n",
              "    <tr>\n",
              "      <th>Sleep Duration</th>\n",
              "      <td>0</td>\n",
              "    </tr>\n",
              "    <tr>\n",
              "      <th>Dietary Habits</th>\n",
              "      <td>2</td>\n",
              "    </tr>\n",
              "    <tr>\n",
              "      <th>Have you ever had suicidal thoughts ?</th>\n",
              "      <td>0</td>\n",
              "    </tr>\n",
              "    <tr>\n",
              "      <th>Work/Study Hours</th>\n",
              "      <td>0</td>\n",
              "    </tr>\n",
              "    <tr>\n",
              "      <th>Financial Stress</th>\n",
              "      <td>1</td>\n",
              "    </tr>\n",
              "    <tr>\n",
              "      <th>Family History of Mental Illness</th>\n",
              "      <td>0</td>\n",
              "    </tr>\n",
              "    <tr>\n",
              "      <th>Depression</th>\n",
              "      <td>0</td>\n",
              "    </tr>\n",
              "  </tbody>\n",
              "</table>\n",
              "</div><br><label><b>dtype:</b> int64</label>"
            ]
          },
          "metadata": {},
          "execution_count": 635
        }
      ]
    },
    {
      "cell_type": "code",
      "source": [
        "train[train['Working Professional or Student'] == 'Working Professional'].isna().sum()"
      ],
      "metadata": {
        "colab": {
          "base_uri": "https://localhost:8080/",
          "height": 523
        },
        "id": "HkGSo46a_Tgw",
        "outputId": "19b466e4-f963-42cd-8a5e-d2f7310cee99"
      },
      "execution_count": null,
      "outputs": [
        {
          "output_type": "execute_result",
          "data": {
            "text/plain": [
              "Age                                          0\n",
              "Working Professional or Student              0\n",
              "Profession                                6216\n",
              "Academic Pressure                            0\n",
              "Work Pressure                                0\n",
              "Study Satisfaction                       78939\n",
              "Job Satisfaction                             0\n",
              "Sleep Duration                               0\n",
              "Dietary Habits                               2\n",
              "Have you ever had suicidal thoughts ?        0\n",
              "Work/Study Hours                             0\n",
              "Financial Stress                             0\n",
              "Family History of Mental Illness             0\n",
              "Depression                                   0\n",
              "dtype: int64"
            ],
            "text/html": [
              "<div>\n",
              "<style scoped>\n",
              "    .dataframe tbody tr th:only-of-type {\n",
              "        vertical-align: middle;\n",
              "    }\n",
              "\n",
              "    .dataframe tbody tr th {\n",
              "        vertical-align: top;\n",
              "    }\n",
              "\n",
              "    .dataframe thead th {\n",
              "        text-align: right;\n",
              "    }\n",
              "</style>\n",
              "<table border=\"1\" class=\"dataframe\">\n",
              "  <thead>\n",
              "    <tr style=\"text-align: right;\">\n",
              "      <th></th>\n",
              "      <th>0</th>\n",
              "    </tr>\n",
              "  </thead>\n",
              "  <tbody>\n",
              "    <tr>\n",
              "      <th>Age</th>\n",
              "      <td>0</td>\n",
              "    </tr>\n",
              "    <tr>\n",
              "      <th>Working Professional or Student</th>\n",
              "      <td>0</td>\n",
              "    </tr>\n",
              "    <tr>\n",
              "      <th>Profession</th>\n",
              "      <td>6216</td>\n",
              "    </tr>\n",
              "    <tr>\n",
              "      <th>Academic Pressure</th>\n",
              "      <td>0</td>\n",
              "    </tr>\n",
              "    <tr>\n",
              "      <th>Work Pressure</th>\n",
              "      <td>0</td>\n",
              "    </tr>\n",
              "    <tr>\n",
              "      <th>Study Satisfaction</th>\n",
              "      <td>78939</td>\n",
              "    </tr>\n",
              "    <tr>\n",
              "      <th>Job Satisfaction</th>\n",
              "      <td>0</td>\n",
              "    </tr>\n",
              "    <tr>\n",
              "      <th>Sleep Duration</th>\n",
              "      <td>0</td>\n",
              "    </tr>\n",
              "    <tr>\n",
              "      <th>Dietary Habits</th>\n",
              "      <td>2</td>\n",
              "    </tr>\n",
              "    <tr>\n",
              "      <th>Have you ever had suicidal thoughts ?</th>\n",
              "      <td>0</td>\n",
              "    </tr>\n",
              "    <tr>\n",
              "      <th>Work/Study Hours</th>\n",
              "      <td>0</td>\n",
              "    </tr>\n",
              "    <tr>\n",
              "      <th>Financial Stress</th>\n",
              "      <td>0</td>\n",
              "    </tr>\n",
              "    <tr>\n",
              "      <th>Family History of Mental Illness</th>\n",
              "      <td>0</td>\n",
              "    </tr>\n",
              "    <tr>\n",
              "      <th>Depression</th>\n",
              "      <td>0</td>\n",
              "    </tr>\n",
              "  </tbody>\n",
              "</table>\n",
              "</div><br><label><b>dtype:</b> int64</label>"
            ]
          },
          "metadata": {},
          "execution_count": 636
        }
      ]
    },
    {
      "cell_type": "markdown",
      "source": [
        "Кодирование профессий с помощью Label Encoding"
      ],
      "metadata": {
        "id": "_KAH4_6-UstG"
      }
    },
    {
      "cell_type": "code",
      "source": [
        "label_encoder = LabelEncoder()\n",
        "\n",
        "label_encoder.fit(train['Profession'].fillna('Unknown'))\n",
        "\n",
        "train['Profession'] = label_encoder.transform(train['Profession'].fillna('Unknown'))"
      ],
      "metadata": {
        "id": "PRdTt-jjcnlr"
      },
      "execution_count": null,
      "outputs": []
    },
    {
      "cell_type": "code",
      "source": [
        "train['Sleep Duration'].value_counts()"
      ],
      "metadata": {
        "colab": {
          "base_uri": "https://localhost:8080/",
          "height": 1000
        },
        "id": "IQKr8BT4jEuw",
        "outputId": "9b775871-f9fd-41c1-c819-26628d793a54"
      },
      "execution_count": null,
      "outputs": [
        {
          "output_type": "execute_result",
          "data": {
            "text/plain": [
              "Sleep Duration\n",
              "Less than 5 hours    27181\n",
              "7-8 hours            25899\n",
              "More than 8 hours    22824\n",
              "5-6 hours            22523\n",
              "3-4 hours                8\n",
              "6-7 hours                8\n",
              "4-5 hours                5\n",
              "4-6 hours                5\n",
              "No                       4\n",
              "6-8 hours                4\n",
              "1-6 hours                3\n",
              "9-11 hours               2\n",
              "2-3 hours                2\n",
              "45                       2\n",
              "10-11 hours              2\n",
              "Unhealthy                2\n",
              "49 hours                 1\n",
              "45-48 hours              1\n",
              "1-3 hours                1\n",
              "9-6 hours                1\n",
              "Sleep_Duration           1\n",
              "Moderate                 1\n",
              "8-9 hours                1\n",
              "8 hours                  1\n",
              "Work_Study_Hours         1\n",
              "1-2 hours                1\n",
              "9-5 hours                1\n",
              "Indore                   1\n",
              "than 5 hours             1\n",
              "Pune                     1\n",
              "40-45 hours              1\n",
              "3-6 hours                1\n",
              "Name: count, dtype: int64"
            ],
            "text/html": [
              "<div>\n",
              "<style scoped>\n",
              "    .dataframe tbody tr th:only-of-type {\n",
              "        vertical-align: middle;\n",
              "    }\n",
              "\n",
              "    .dataframe tbody tr th {\n",
              "        vertical-align: top;\n",
              "    }\n",
              "\n",
              "    .dataframe thead th {\n",
              "        text-align: right;\n",
              "    }\n",
              "</style>\n",
              "<table border=\"1\" class=\"dataframe\">\n",
              "  <thead>\n",
              "    <tr style=\"text-align: right;\">\n",
              "      <th></th>\n",
              "      <th>count</th>\n",
              "    </tr>\n",
              "    <tr>\n",
              "      <th>Sleep Duration</th>\n",
              "      <th></th>\n",
              "    </tr>\n",
              "  </thead>\n",
              "  <tbody>\n",
              "    <tr>\n",
              "      <th>Less than 5 hours</th>\n",
              "      <td>27181</td>\n",
              "    </tr>\n",
              "    <tr>\n",
              "      <th>7-8 hours</th>\n",
              "      <td>25899</td>\n",
              "    </tr>\n",
              "    <tr>\n",
              "      <th>More than 8 hours</th>\n",
              "      <td>22824</td>\n",
              "    </tr>\n",
              "    <tr>\n",
              "      <th>5-6 hours</th>\n",
              "      <td>22523</td>\n",
              "    </tr>\n",
              "    <tr>\n",
              "      <th>3-4 hours</th>\n",
              "      <td>8</td>\n",
              "    </tr>\n",
              "    <tr>\n",
              "      <th>6-7 hours</th>\n",
              "      <td>8</td>\n",
              "    </tr>\n",
              "    <tr>\n",
              "      <th>4-5 hours</th>\n",
              "      <td>5</td>\n",
              "    </tr>\n",
              "    <tr>\n",
              "      <th>4-6 hours</th>\n",
              "      <td>5</td>\n",
              "    </tr>\n",
              "    <tr>\n",
              "      <th>No</th>\n",
              "      <td>4</td>\n",
              "    </tr>\n",
              "    <tr>\n",
              "      <th>6-8 hours</th>\n",
              "      <td>4</td>\n",
              "    </tr>\n",
              "    <tr>\n",
              "      <th>1-6 hours</th>\n",
              "      <td>3</td>\n",
              "    </tr>\n",
              "    <tr>\n",
              "      <th>9-11 hours</th>\n",
              "      <td>2</td>\n",
              "    </tr>\n",
              "    <tr>\n",
              "      <th>2-3 hours</th>\n",
              "      <td>2</td>\n",
              "    </tr>\n",
              "    <tr>\n",
              "      <th>45</th>\n",
              "      <td>2</td>\n",
              "    </tr>\n",
              "    <tr>\n",
              "      <th>10-11 hours</th>\n",
              "      <td>2</td>\n",
              "    </tr>\n",
              "    <tr>\n",
              "      <th>Unhealthy</th>\n",
              "      <td>2</td>\n",
              "    </tr>\n",
              "    <tr>\n",
              "      <th>49 hours</th>\n",
              "      <td>1</td>\n",
              "    </tr>\n",
              "    <tr>\n",
              "      <th>45-48 hours</th>\n",
              "      <td>1</td>\n",
              "    </tr>\n",
              "    <tr>\n",
              "      <th>1-3 hours</th>\n",
              "      <td>1</td>\n",
              "    </tr>\n",
              "    <tr>\n",
              "      <th>9-6 hours</th>\n",
              "      <td>1</td>\n",
              "    </tr>\n",
              "    <tr>\n",
              "      <th>Sleep_Duration</th>\n",
              "      <td>1</td>\n",
              "    </tr>\n",
              "    <tr>\n",
              "      <th>Moderate</th>\n",
              "      <td>1</td>\n",
              "    </tr>\n",
              "    <tr>\n",
              "      <th>8-9 hours</th>\n",
              "      <td>1</td>\n",
              "    </tr>\n",
              "    <tr>\n",
              "      <th>8 hours</th>\n",
              "      <td>1</td>\n",
              "    </tr>\n",
              "    <tr>\n",
              "      <th>Work_Study_Hours</th>\n",
              "      <td>1</td>\n",
              "    </tr>\n",
              "    <tr>\n",
              "      <th>1-2 hours</th>\n",
              "      <td>1</td>\n",
              "    </tr>\n",
              "    <tr>\n",
              "      <th>9-5 hours</th>\n",
              "      <td>1</td>\n",
              "    </tr>\n",
              "    <tr>\n",
              "      <th>Indore</th>\n",
              "      <td>1</td>\n",
              "    </tr>\n",
              "    <tr>\n",
              "      <th>than 5 hours</th>\n",
              "      <td>1</td>\n",
              "    </tr>\n",
              "    <tr>\n",
              "      <th>Pune</th>\n",
              "      <td>1</td>\n",
              "    </tr>\n",
              "    <tr>\n",
              "      <th>40-45 hours</th>\n",
              "      <td>1</td>\n",
              "    </tr>\n",
              "    <tr>\n",
              "      <th>3-6 hours</th>\n",
              "      <td>1</td>\n",
              "    </tr>\n",
              "  </tbody>\n",
              "</table>\n",
              "</div><br><label><b>dtype:</b> int64</label>"
            ]
          },
          "metadata": {},
          "execution_count": 638
        }
      ]
    },
    {
      "cell_type": "markdown",
      "source": [
        "Удаление неадекватных значений в Sleep Duration (улудшает модель)"
      ],
      "metadata": {
        "id": "Rjet6_6_UytU"
      }
    },
    {
      "cell_type": "code",
      "source": [
        "condition = ['5-6 hours','More than 8 hours','7-8 hours','Less than 5 hours']\n",
        "#замена на среднее ухудшает модель\n",
        "'''median_value = '5-6 hours'\n",
        "train['Sleep Duration'] = train['Sleep Duration'].apply(lambda x: x if x in condition else median_value)'''\n",
        "train=train[train['Sleep Duration'].isin(condition)]"
      ],
      "metadata": {
        "id": "I7EuDh7Wd3Sr"
      },
      "execution_count": null,
      "outputs": []
    },
    {
      "cell_type": "code",
      "source": [
        "train['Dietary Habits'].value_counts()"
      ],
      "metadata": {
        "colab": {
          "base_uri": "https://localhost:8080/",
          "height": 680
        },
        "id": "U6waH3sUjevS",
        "outputId": "591eb520-511f-4b72-e0bf-452bb0a68620"
      },
      "execution_count": null,
      "outputs": [
        {
          "output_type": "execute_result",
          "data": {
            "text/plain": [
              "Dietary Habits\n",
              "Moderate             34741\n",
              "Unhealthy            32415\n",
              "Healthy              31250\n",
              "Yes                      2\n",
              "More Healthy             2\n",
              "Less Healthy             1\n",
              "Gender                   1\n",
              "3                        1\n",
              "Hormonal                 1\n",
              "Mihir                    1\n",
              "Electrician              1\n",
              "Vegas                    1\n",
              "No Healthy               1\n",
              "Male                     1\n",
              "No                       1\n",
              "BSc                      1\n",
              "1.0                      1\n",
              "Less than Healthy        1\n",
              "Name: count, dtype: int64"
            ],
            "text/html": [
              "<div>\n",
              "<style scoped>\n",
              "    .dataframe tbody tr th:only-of-type {\n",
              "        vertical-align: middle;\n",
              "    }\n",
              "\n",
              "    .dataframe tbody tr th {\n",
              "        vertical-align: top;\n",
              "    }\n",
              "\n",
              "    .dataframe thead th {\n",
              "        text-align: right;\n",
              "    }\n",
              "</style>\n",
              "<table border=\"1\" class=\"dataframe\">\n",
              "  <thead>\n",
              "    <tr style=\"text-align: right;\">\n",
              "      <th></th>\n",
              "      <th>count</th>\n",
              "    </tr>\n",
              "    <tr>\n",
              "      <th>Dietary Habits</th>\n",
              "      <th></th>\n",
              "    </tr>\n",
              "  </thead>\n",
              "  <tbody>\n",
              "    <tr>\n",
              "      <th>Moderate</th>\n",
              "      <td>34741</td>\n",
              "    </tr>\n",
              "    <tr>\n",
              "      <th>Unhealthy</th>\n",
              "      <td>32415</td>\n",
              "    </tr>\n",
              "    <tr>\n",
              "      <th>Healthy</th>\n",
              "      <td>31250</td>\n",
              "    </tr>\n",
              "    <tr>\n",
              "      <th>Yes</th>\n",
              "      <td>2</td>\n",
              "    </tr>\n",
              "    <tr>\n",
              "      <th>More Healthy</th>\n",
              "      <td>2</td>\n",
              "    </tr>\n",
              "    <tr>\n",
              "      <th>Less Healthy</th>\n",
              "      <td>1</td>\n",
              "    </tr>\n",
              "    <tr>\n",
              "      <th>Gender</th>\n",
              "      <td>1</td>\n",
              "    </tr>\n",
              "    <tr>\n",
              "      <th>3</th>\n",
              "      <td>1</td>\n",
              "    </tr>\n",
              "    <tr>\n",
              "      <th>Hormonal</th>\n",
              "      <td>1</td>\n",
              "    </tr>\n",
              "    <tr>\n",
              "      <th>Mihir</th>\n",
              "      <td>1</td>\n",
              "    </tr>\n",
              "    <tr>\n",
              "      <th>Electrician</th>\n",
              "      <td>1</td>\n",
              "    </tr>\n",
              "    <tr>\n",
              "      <th>Vegas</th>\n",
              "      <td>1</td>\n",
              "    </tr>\n",
              "    <tr>\n",
              "      <th>No Healthy</th>\n",
              "      <td>1</td>\n",
              "    </tr>\n",
              "    <tr>\n",
              "      <th>Male</th>\n",
              "      <td>1</td>\n",
              "    </tr>\n",
              "    <tr>\n",
              "      <th>No</th>\n",
              "      <td>1</td>\n",
              "    </tr>\n",
              "    <tr>\n",
              "      <th>BSc</th>\n",
              "      <td>1</td>\n",
              "    </tr>\n",
              "    <tr>\n",
              "      <th>1.0</th>\n",
              "      <td>1</td>\n",
              "    </tr>\n",
              "    <tr>\n",
              "      <th>Less than Healthy</th>\n",
              "      <td>1</td>\n",
              "    </tr>\n",
              "  </tbody>\n",
              "</table>\n",
              "</div><br><label><b>dtype:</b> int64</label>"
            ]
          },
          "metadata": {},
          "execution_count": 640
        }
      ]
    },
    {
      "cell_type": "markdown",
      "source": [
        "Удаление неадекватных значений в Dietary Habits (улудшает модель)"
      ],
      "metadata": {
        "id": "vzOxzc97U4cO"
      }
    },
    {
      "cell_type": "code",
      "source": [
        "condition = ['Moderate', 'Healthy', 'Unhealthy']\n",
        "#замена на среднее ухудшает модель\n",
        "'''median_value = 'Moderate'\n",
        "train['Dietary Habits'] = train['Dietary Habits'].apply(lambda x: x if x in condition else median_value)'''\n",
        "train=train[train['Dietary Habits'].isin(condition)]"
      ],
      "metadata": {
        "id": "7bWDLDkId416"
      },
      "execution_count": null,
      "outputs": []
    },
    {
      "cell_type": "code",
      "source": [
        "train = train.fillna(0)"
      ],
      "metadata": {
        "id": "g4LY0R38cg2d"
      },
      "execution_count": null,
      "outputs": []
    },
    {
      "cell_type": "markdown",
      "source": [
        "Кодирование фичей с помощью Mapping"
      ],
      "metadata": {
        "id": "aygMec1yVPJA"
      }
    },
    {
      "cell_type": "code",
      "source": [
        "mapping = {\n",
        "    'Yes': 1,\n",
        "    'No': 0,\n",
        "    '5-6 hours': 5.5,\n",
        "    'More than 8 hours': 9,\n",
        "    '7-8 hours': 7.5,\n",
        "    'Less than 5 hours': 4,\n",
        "    'Student':1,\n",
        "    'Working Professional':2,\n",
        "    'Healthy':3,\n",
        "    'Unhealthy':1,\n",
        "    'Moderate':2\n",
        "}\n",
        "\n",
        "train['Have you ever had suicidal thoughts ?'] = train['Have you ever had suicidal thoughts ?'].map(mapping)\n",
        "train['Sleep Duration']=train['Sleep Duration'].map(mapping)\n",
        "train['Family History of Mental Illness']=train['Family History of Mental Illness'].map(mapping)\n",
        "train['Dietary Habits']=train['Dietary Habits'].map(mapping)\n",
        "train['Working Professional or Student']=train['Working Professional or Student'].map(mapping)"
      ],
      "metadata": {
        "id": "lxILNsnzc-GO"
      },
      "execution_count": null,
      "outputs": []
    },
    {
      "cell_type": "code",
      "source": [
        "train.info()"
      ],
      "metadata": {
        "colab": {
          "base_uri": "https://localhost:8080/"
        },
        "id": "4n6U5iojdCuV",
        "outputId": "652bb8e6-5b8a-42c0-ee51-0f44777f9895"
      },
      "execution_count": null,
      "outputs": [
        {
          "output_type": "stream",
          "name": "stdout",
          "text": [
            "<class 'pandas.core.frame.DataFrame'>\n",
            "Index: 98406 entries, 0 to 98489\n",
            "Data columns (total 14 columns):\n",
            " #   Column                                 Non-Null Count  Dtype  \n",
            "---  ------                                 --------------  -----  \n",
            " 0   Age                                    98406 non-null  float64\n",
            " 1   Working Professional or Student        98406 non-null  float64\n",
            " 2   Profession                             98406 non-null  int64  \n",
            " 3   Academic Pressure                      98406 non-null  float64\n",
            " 4   Work Pressure                          98406 non-null  float64\n",
            " 5   Study Satisfaction                     98406 non-null  float64\n",
            " 6   Job Satisfaction                       98406 non-null  float64\n",
            " 7   Sleep Duration                         98406 non-null  float64\n",
            " 8   Dietary Habits                         98406 non-null  float64\n",
            " 9   Have you ever had suicidal thoughts ?  98406 non-null  float64\n",
            " 10  Work/Study Hours                       98406 non-null  float64\n",
            " 11  Financial Stress                       98406 non-null  float64\n",
            " 12  Family History of Mental Illness       98406 non-null  float64\n",
            " 13  Depression                             98406 non-null  int64  \n",
            "dtypes: float64(12), int64(2)\n",
            "memory usage: 11.3 MB\n"
          ]
        }
      ]
    },
    {
      "cell_type": "code",
      "source": [
        "corr_matrix = train.corr()\n",
        "\n",
        "plt.figure(figsize=(10, 8))\n",
        "sns.heatmap(corr_matrix, annot=True, cmap='coolwarm', fmt='.2f', linewidths=0.5)\n",
        "plt.title('Correlation Matrix')\n",
        "plt.show()"
      ],
      "metadata": {
        "colab": {
          "base_uri": "https://localhost:8080/",
          "height": 951
        },
        "id": "qrYip11xeGjY",
        "outputId": "12c6d08e-7f03-42a6-df04-ec8ceba46d89"
      },
      "execution_count": null,
      "outputs": [
        {
          "output_type": "display_data",
          "data": {
            "text/plain": [
              "<Figure size 1000x800 with 2 Axes>"
            ],
            "image/png": "[encoded data removed]"
          },
          "metadata": {}
        }
      ]
    },
    {
      "cell_type": "code",
      "source": [
        "phik_overview = train.phik_matrix()\n",
        "\n",
        "plt=plot_correlation_matrix(phik_overview.values,\n",
        "                        x_labels=phik_overview.columns,\n",
        "                        y_labels=phik_overview.index,\n",
        "                        vmin=0, vmax=1, color_map=\"Greens\",\n",
        "                        title=r\"correlation $\\phi_K$\",\n",
        "                        fontsize_factor=0.8, figsize=(11, 6))"
      ],
      "metadata": {
        "colab": {
          "base_uri": "https://localhost:8080/",
          "height": 644
        },
        "id": "n8W2vtd4fEDb",
        "outputId": "fb006526-c766-464c-8138-dfc34c0eb721"
      },
      "execution_count": null,
      "outputs": [
        {
          "output_type": "stream",
          "name": "stdout",
          "text": [
            "interval columns not set, guessing: ['Age', 'Working Professional or Student', 'Profession', 'Academic Pressure', 'Work Pressure', 'Study Satisfaction', 'Job Satisfaction', 'Sleep Duration', 'Dietary Habits', 'Have you ever had suicidal thoughts ?', 'Work/Study Hours', 'Financial Stress', 'Family History of Mental Illness', 'Depression']\n"
          ]
        },
        {
          "output_type": "display_data",
          "data": {
            "text/plain": [
              "<Figure size 1100x600 with 2 Axes>"
            ],
            "image/png": "[encoded data removed]"
          },
          "metadata": {}
        }
      ]
    },
    {
      "cell_type": "markdown",
      "source": [
        "Создание признаков свободное время, проблемы в учебе и проблемы на работе"
      ],
      "metadata": {
        "id": "cP35XaMHVb9k"
      }
    },
    {
      "cell_type": "code",
      "source": [
        "train['Free time'] = 24 - train['Sleep Duration']-train['Work/Study Hours']"
      ],
      "metadata": {
        "id": "ZS7s_swMk_Mq"
      },
      "execution_count": null,
      "outputs": []
    },
    {
      "cell_type": "code",
      "source": [
        "train['Problem_student'] = np.where(\n",
        "    train['Academic Pressure'] == 0,\n",
        "    0,\n",
        "    train['Academic Pressure'] + train['Financial Stress'] + train['Study Satisfaction'] + train['Have you ever had suicidal thoughts ?'] + train['Family History of Mental Illness']\n",
        ")"
      ],
      "metadata": {
        "id": "CfHuHbUiQzGg"
      },
      "execution_count": null,
      "outputs": []
    },
    {
      "cell_type": "code",
      "source": [
        "train['Problem_work'] = np.where(\n",
        "    train['Work Pressure'] == 0,\n",
        "    0,\n",
        "    -train['Work Pressure'] + train['Financial Stress'] - train['Job Satisfaction']+ train['Have you ever had suicidal thoughts ?'] + train['Family History of Mental Illness']\n",
        ")"
      ],
      "metadata": {
        "id": "mvZyaJnlQ07X"
      },
      "execution_count": null,
      "outputs": []
    },
    {
      "cell_type": "markdown",
      "source": [
        "Неудачне попытки создать признак проблем в учебе и на работе (метрики становились хуже)"
      ],
      "metadata": {
        "id": "uyXszmwsVpX6"
      }
    },
    {
      "cell_type": "code",
      "source": [
        "#train['Problem_student'] = train['Academic Pressure'] + train['Financial Stress'] + train['Study Satisfaction'] + train['Have you ever had suicidal thoughts ?'] + train['Family History of Mental Illness']"
      ],
      "metadata": {
        "id": "vRyOELyN7iKn"
      },
      "execution_count": null,
      "outputs": []
    },
    {
      "cell_type": "code",
      "source": [
        "#train['Problem_work'] = -train['Work Pressure'] + train['Financial Stress'] - train['Job Satisfaction']+ train['Have you ever had suicidal thoughts ?'] + train['Family History of Mental Illness']"
      ],
      "metadata": {
        "id": "4hqXiJoH7ic-"
      },
      "execution_count": null,
      "outputs": []
    },
    {
      "cell_type": "markdown",
      "source": [
        "Деление возрастов на категории (не дало результатов)"
      ],
      "metadata": {
        "id": "UKw55LxbVw0g"
      }
    },
    {
      "cell_type": "code",
      "source": [
        "#train.loc[train['Age'] < 35, 'Age'] = 2\n",
        "#train.loc[(train['Age'] >= 35) & (train['Age'] < 52), 'Age'] = 1\n",
        "#train.loc[train['Age'] >= 52, 'Age'] = 0"
      ],
      "metadata": {
        "id": "7qA8CdBL6HvX"
      },
      "execution_count": null,
      "outputs": []
    },
    {
      "cell_type": "markdown",
      "source": [
        "Создание признака - плохое ментальное состояние (ухудшило модель)"
      ],
      "metadata": {
        "id": "ihhoR974V1Cx"
      }
    },
    {
      "cell_type": "code",
      "source": [
        "'''train['bad mental'] = ((train['Have you ever had suicidal thoughts ?'] + train['Family History of Mental Illness']) == 2) & (train['Financial Stress'] >= 3)\n",
        "\n",
        "train['bad mental'] = train['bad mental'].astype(int)'''"
      ],
      "metadata": {
        "id": "azyAMBukudOt",
        "colab": {
          "base_uri": "https://localhost:8080/",
          "height": 53
        },
        "outputId": "f6f460ca-557c-4a12-b92b-20bfa428f748"
      },
      "execution_count": null,
      "outputs": [
        {
          "output_type": "execute_result",
          "data": {
            "text/plain": [
              "\"train['bad mental'] = ((train['Have you ever had suicidal thoughts ?'] + train['Family History of Mental Illness']) == 2) & (train['Financial Stress'] >= 3)\\n\\ntrain['bad mental'] = train['bad mental'].astype(int)\""
            ],
            "application/vnd.google.colaboratory.intrinsic+json": {
              "type": "string"
            }
          },
          "metadata": {},
          "execution_count": 653
        }
      ]
    },
    {
      "cell_type": "markdown",
      "source": [
        "Попытки создания категориальных признаков проблемы в учебе и на работе (ухудшило модель)"
      ],
      "metadata": {
        "id": "igQJoWgqV6ou"
      }
    },
    {
      "cell_type": "code",
      "source": [
        "#train['bad_academy'] = np.where((train['Academic Pressure'] >= 4) & (train['Study Satisfaction'] <= 2), 1, 0)"
      ],
      "metadata": {
        "id": "Nl_7Zy5lveWi"
      },
      "execution_count": null,
      "outputs": []
    },
    {
      "cell_type": "code",
      "source": [
        "#train['bad_job'] = np.where((train['Work Pressure'] >= 4) & (train['Job Satisfaction'] <= 2), 1, 0)"
      ],
      "metadata": {
        "id": "0aj0Eox3vxnc"
      },
      "execution_count": null,
      "outputs": []
    },
    {
      "cell_type": "markdown",
      "source": [
        "Разделение датасета на тренировочную и валидационную выборку, а также применение target encoding к категориальным фичам."
      ],
      "metadata": {
        "id": "LakeJmn9WC9O"
      }
    },
    {
      "cell_type": "code",
      "source": [
        "X = train.drop(columns=[\"Depression\"])\n",
        "y = train[\"Depression\"]\n",
        "\n",
        "X_train, X_test, y_train, y_test = train_test_split(X, y, test_size=0.2, random_state=42)\n",
        "\n",
        "encoder = ce.TargetEncoder(cols=[\n",
        "    'Have you ever had suicidal thoughts ?',\n",
        "    'Family History of Mental Illness',\n",
        "    'Working Professional or Student'\n",
        "])\n",
        "X_train = encoder.fit_transform(X_train, y_train)\n",
        "\n",
        "X_test = encoder.transform(X_test)"
      ],
      "metadata": {
        "id": "GW0fclLYqKhf"
      },
      "execution_count": null,
      "outputs": []
    },
    {
      "cell_type": "markdown",
      "source": [
        "# 2) Выбор модели, ее обучение и подбор гиперпараметров"
      ],
      "metadata": {
        "id": "pAbDt4YmdB5V"
      }
    },
    {
      "cell_type": "markdown",
      "source": [
        "Проверка моделей без гиперпараметров"
      ],
      "metadata": {
        "id": "OzxKG5OYWXPL"
      }
    },
    {
      "cell_type": "code",
      "source": [
        "models = {\n",
        "    \"Logistic Regression\": LogisticRegression(random_state=42, max_iter=2000),\n",
        "    \"Random Forest\": RandomForestClassifier(random_state=42),\n",
        "    \"XGBoost\": XGBClassifier(eval_metric='logloss', random_state=42),\n",
        "    \"CatBoost\": CatBoostClassifier(verbose=0, random_state=42),\n",
        "}\n",
        "\n",
        "results = []\n",
        "\n",
        "for model_name, model in models.items():\n",
        "    model.fit(X_train, y_train)\n",
        "    y_pred = model.predict(X_test)\n",
        "    y_pred_proba = model.predict_proba(X_test)[:, 1]\n",
        "\n",
        "    f1 = f1_score(y_test, y_pred)\n",
        "    roc_auc = roc_auc_score(y_test, y_pred_proba)\n",
        "\n",
        "    results.append({\"Model\": model_name, \"F1-Score\": f1, \"ROC-AUC\": roc_auc})\n",
        "\n",
        "for result in results:\n",
        "    print(f\"{result['Model']}: F1-Score = {result['F1-Score']:.6f}, ROC-AUC = {result['ROC-AUC']:.6f}\")"
      ],
      "metadata": {
        "colab": {
          "base_uri": "https://localhost:8080/"
        },
        "id": "JPLJAnbS-JSO",
        "outputId": "f96b94b1-6a31-472a-8faa-ae0ce94e54c7"
      },
      "execution_count": null,
      "outputs": [
        {
          "output_type": "stream",
          "name": "stdout",
          "text": [
            "Logistic Regression: F1-Score = 0.829081, ROC-AUC = 0.975207\n",
            "Random Forest: F1-Score = 0.817230, ROC-AUC = 0.969832\n",
            "XGBoost: F1-Score = 0.826864, ROC-AUC = 0.973533\n",
            "CatBoost: F1-Score = 0.829361, ROC-AUC = 0.975312\n"
          ]
        }
      ]
    },
    {
      "cell_type": "markdown",
      "source": [
        "Без гиперпараметров:\n",
        "\n",
        "Logistic Regression: F1-Score = 0.829081, ROC-AUC = 0.975207\n",
        "\n",
        "Random Forest: F1-Score = 0.817230, ROC-AUC = 0.969832\n",
        "\n",
        "XGBoost: F1-Score = 0.826864, ROC-AUC = 0.973533\n",
        "\n",
        "CatBoost: F1-Score = 0.829361, ROC-AUC = 0.975312"
      ],
      "metadata": {
        "id": "X1wfrrNj-Ms7"
      }
    },
    {
      "cell_type": "markdown",
      "source": [
        "Подбор гиперпараметров для CatBoost, для логистической регрессии параметры подобраны также с помощью GridSearch"
      ],
      "metadata": {
        "id": "9VU3bqx0Whie"
      }
    },
    {
      "cell_type": "code",
      "source": [
        "'''model = CatBoostClassifier(learning_rate=0.1,verbose=0)\n",
        "param_grid = {\n",
        "    'iterations': [200, 300, 400],\n",
        "    'depth': [4, 6, 8],\n",
        "    'l2_leaf_reg': [1, 3, 5],\n",
        "}\n",
        "\n",
        "# GridSearchCV для подбора гиперпараметров\n",
        "grid_search = GridSearchCV(estimator=model, param_grid=param_grid, cv=3, scoring='f1', verbose=3)\n",
        "grid_search.fit(X_train, y_train)\n",
        "\n",
        "# Лучшие параметры\n",
        "print(\"Лучшие параметры:\", grid_search.best_params_)'''"
      ],
      "metadata": {
        "colab": {
          "base_uri": "https://localhost:8080/",
          "height": 88
        },
        "id": "dG1O25ao55Ae",
        "outputId": "df9b217f-637f-4703-f1ca-df1ac184d5ae"
      },
      "execution_count": null,
      "outputs": [
        {
          "output_type": "execute_result",
          "data": {
            "text/plain": [
              "'model = CatBoostClassifier(learning_rate=0.1,verbose=0)\\nparam_grid = {\\n    \\'iterations\\': [200, 300, 400],\\n    \\'depth\\': [4, 6, 8],\\n    \\'l2_leaf_reg\\': [1, 3, 5],\\n}\\n\\n# GridSearchCV для подбора гиперпараметров\\ngrid_search = GridSearchCV(estimator=model, param_grid=param_grid, cv=3, scoring=\\'f1\\', verbose=3)\\ngrid_search.fit(X_train, y_train)\\n\\n# Лучшие параметры\\nprint(\"Лучшие параметры:\", grid_search.best_params_)'"
            ],
            "application/vnd.google.colaboratory.intrinsic+json": {
              "type": "string"
            }
          },
          "metadata": {},
          "execution_count": 658
        }
      ]
    },
    {
      "cell_type": "markdown",
      "source": [
        "С гиперпараметрами(depth = 4, iterations=300, l2_leaf_reg = 5, learning_rate = 0.1,verbose=0, class_weights=[1, 1.8]):\n",
        "\n",
        "CatBoost:\n",
        "\n",
        "ROC AUC Score: 0.9765254495158692\n",
        "\n",
        "f1-score: 0.8381606039807824"
      ],
      "metadata": {
        "id": "izAc0ZiwhCip"
      }
    },
    {
      "cell_type": "code",
      "source": [
        "model = CatBoostClassifier(depth = 4, iterations=300, l2_leaf_reg = 5, learning_rate = 0.1,class_weights=[1, 1.8], verbose=0)\n",
        "model.fit(X_train, y_train)\n",
        "\n",
        "y_pred_proba = model.predict_proba(X_test)\n",
        "y_pred = model.predict(X_test)\n",
        "roc_auc = roc_auc_score(y_test, y_pred_proba[:, 1])\n",
        "f1 = f1_score(y_test, y_pred)\n",
        "\n",
        "print(f'ROC AUC Score: {roc_auc}')\n",
        "print(f\"f1-score: {f1}\")"
      ],
      "metadata": {
        "colab": {
          "base_uri": "https://localhost:8080/"
        },
        "id": "3qTgRXULfyoh",
        "outputId": "ccb4e981-48b2-40ff-8e77-52c2281f3349"
      },
      "execution_count": null,
      "outputs": [
        {
          "output_type": "stream",
          "name": "stdout",
          "text": [
            "ROC AUC Score: 0.9765254495158692\n",
            "f1-score: 0.8381606039807824\n"
          ]
        }
      ]
    },
    {
      "cell_type": "markdown",
      "source": [
        "С гиперпараметрами(C = 1, random_state=42, max_iter=2000, class_weight={0: 1, 1: 1.9}):\n",
        "\n",
        "Logistic Regression:\n",
        "\n",
        "ROC AUC Score: 0.9752099861593223\n",
        "\n",
        "f1-score: 0.830580204778157"
      ],
      "metadata": {
        "id": "9mmSBhn3W1dC"
      }
    },
    {
      "cell_type": "code",
      "source": [
        "model1 = LogisticRegression(C = 1, random_state=42, max_iter=2000, class_weight={0: 1, 1: 1.9})\n",
        "model1.fit(X_train, y_train)\n",
        "\n",
        "y_pred_proba = model1.predict_proba(X_test)\n",
        "y_pred = model1.predict(X_test)\n",
        "roc_auc = roc_auc_score(y_test, y_pred_proba[:, 1])\n",
        "f1 = f1_score(y_test, y_pred)\n",
        "\n",
        "print(f'ROC AUC Score: {roc_auc}')\n",
        "print(f\"f1-score: {f1}\")"
      ],
      "metadata": {
        "colab": {
          "base_uri": "https://localhost:8080/"
        },
        "id": "1AtBn3VeQXe0",
        "outputId": "f55a2df1-849c-4c80-8db4-c1b724c2df55"
      },
      "execution_count": null,
      "outputs": [
        {
          "output_type": "stream",
          "name": "stdout",
          "text": [
            "ROC AUC Score: 0.9752099861593223\n",
            "f1-score: 0.830580204778157\n"
          ]
        }
      ]
    },
    {
      "cell_type": "markdown",
      "source": [
        "Обучение randomforest (участвовал в экспериментах в ансамблях - показал результат хуже других моделей)"
      ],
      "metadata": {
        "id": "WvY2vBnFZUB2"
      }
    },
    {
      "cell_type": "code",
      "source": [
        "model2 = RandomForestClassifier(\n",
        "    n_estimators=500,\n",
        "    max_depth=10,\n",
        "    random_state=42\n",
        ")\n",
        "model2.fit(X_train, y_train)\n",
        "\n",
        "y_pred_proba = model2.predict_proba(X_test)\n",
        "y_pred = model2.predict(X_test)\n",
        "roc_auc = roc_auc_score(y_test, y_pred_proba[:, 1])\n",
        "f1 = f1_score(y_test, y_pred)\n",
        "\n",
        "print(f'ROC AUC Score: {roc_auc}')\n",
        "print(f\"f1-score: {f1}\")"
      ],
      "metadata": {
        "colab": {
          "base_uri": "https://localhost:8080/"
        },
        "id": "pZMvz_5t4YO3",
        "outputId": "9839d4d2-2769-4d41-c0f3-65e5898dc176"
      },
      "execution_count": null,
      "outputs": [
        {
          "output_type": "stream",
          "name": "stdout",
          "text": [
            "ROC AUC Score: 0.9734552541109173\n",
            "f1-score: 0.8256122750073768\n"
          ]
        }
      ]
    },
    {
      "cell_type": "markdown",
      "source": [
        "Создание различных ансамблей:\n",
        "\n",
        "1) Bagging для CatBoost и LogisticRegression"
      ],
      "metadata": {
        "id": "ANp_exzrXCeX"
      }
    },
    {
      "cell_type": "code",
      "source": [
        "bagging_model = BaggingClassifier(\n",
        "    estimator=model,\n",
        "    n_estimators=5,\n",
        "    random_state=42,\n",
        "    n_jobs=-1\n",
        ")\n",
        "\n",
        "bagging_model.fit(X_train, y_train)\n",
        "\n",
        "y_pred_proba = bagging_model.predict_proba(X_test)\n",
        "y_pred = bagging_model.predict(X_test)\n",
        "roc_auc = roc_auc_score(y_test, y_pred_proba[:, 1])\n",
        "f1 = f1_score(y_test, y_pred)\n",
        "\n",
        "print(f'ROC AUC Score: {roc_auc}')\n",
        "print(f\"f1-score: {f1}\")"
      ],
      "metadata": {
        "colab": {
          "base_uri": "https://localhost:8080/"
        },
        "id": "4cnAmNYoysqs",
        "outputId": "a6a27602-aa4d-4e90-9a20-6d2c92f46561"
      },
      "execution_count": null,
      "outputs": [
        {
          "output_type": "stream",
          "name": "stdout",
          "text": [
            "ROC AUC Score: 0.9764457172034644\n",
            "f1-score: 0.8380716934487021\n"
          ]
        }
      ]
    },
    {
      "cell_type": "code",
      "source": [
        "bagging_model1 = BaggingClassifier(\n",
        "    estimator=model1,\n",
        "    n_estimators=15,\n",
        "    random_state=42\n",
        ")\n",
        "\n",
        "bagging_model1.fit(X_train, y_train)\n",
        "\n",
        "y_pred_proba = bagging_model1.predict_proba(X_test)\n",
        "y_pred = bagging_model1.predict(X_test)\n",
        "roc_auc = roc_auc_score(y_test, y_pred_proba[:, 1])\n",
        "f1 = f1_score(y_test, y_pred)\n",
        "\n",
        "print(f'ROC AUC Score: {roc_auc}')\n",
        "print(f\"f1-score: {f1}\")"
      ],
      "metadata": {
        "colab": {
          "base_uri": "https://localhost:8080/"
        },
        "id": "W5izyBwl2CnX",
        "outputId": "d66c186f-b711-4f83-bb06-cf8344963ade"
      },
      "execution_count": null,
      "outputs": [
        {
          "output_type": "stream",
          "name": "stdout",
          "text": [
            "ROC AUC Score: 0.975177205840789\n",
            "f1-score: 0.8309205135208959\n"
          ]
        }
      ]
    },
    {
      "cell_type": "markdown",
      "source": [
        "2) Boosting из LogisticRegression"
      ],
      "metadata": {
        "id": "BC4R6EjTXQSl"
      }
    },
    {
      "cell_type": "code",
      "source": [
        "boosting_model = AdaBoostClassifier(\n",
        "    estimator=model1,\n",
        "    n_estimators=100,\n",
        "    learning_rate=1.0,\n",
        "    random_state=42\n",
        ")\n",
        "\n",
        "\n",
        "boosting_model.fit(X_train, y_train)\n",
        "y_pred_proba = boosting_model.predict_proba(X_test)\n",
        "y_pred = boosting_model.predict(X_test)\n",
        "roc_auc = roc_auc_score(y_test, y_pred_proba[:, 1])\n",
        "f1 = f1_score(y_test, y_pred)\n",
        "\n",
        "print(f'ROC AUC Score: {roc_auc}')\n",
        "print(f\"f1-score: {f1}\")"
      ],
      "metadata": {
        "colab": {
          "base_uri": "https://localhost:8080/"
        },
        "id": "u0FfwU9m2n5P",
        "outputId": "d24c457d-9c7a-4e59-e581-0d38d7f83d67"
      },
      "execution_count": null,
      "outputs": [
        {
          "output_type": "stream",
          "name": "stdout",
          "text": [
            "ROC AUC Score: 0.9468825020807161\n",
            "f1-score: 0.7784030010718114\n"
          ]
        }
      ]
    },
    {
      "cell_type": "markdown",
      "source": [
        "3) Stacking из CatBoost, LogisticRegression и Bagging (бэггинг кэтбустов)"
      ],
      "metadata": {
        "id": "sh6c_7b7XVcd"
      }
    },
    {
      "cell_type": "code",
      "source": [
        "stacking_model = StackingClassifier(\n",
        "    estimators=[\n",
        "        ('bagging', bagging_model),\n",
        "        ('catboost', model),\n",
        "        ('LogisticRegression', model1)\n",
        "    ],\n",
        "    final_estimator=model1,\n",
        "    cv=5\n",
        ")\n",
        "\n",
        "stacking_model.fit(X_train, y_train)\n",
        "y_pred_proba = stacking_model.predict_proba(X_test)\n",
        "y_pred = stacking_model.predict(X_test)\n",
        "roc_auc = roc_auc_score(y_test, y_pred_proba[:, 1])\n",
        "f1 = f1_score(y_test, y_pred)\n",
        "\n",
        "print(f'ROC AUC Score: {roc_auc}')\n",
        "print(f\"f1-score: {f1}\")"
      ],
      "metadata": {
        "colab": {
          "base_uri": "https://localhost:8080/"
        },
        "id": "dOQ82J2V5CMn",
        "outputId": "88a0e9dc-1bee-4b52-be7c-d9393350b4d8"
      },
      "execution_count": null,
      "outputs": [
        {
          "output_type": "stream",
          "name": "stdout",
          "text": [
            "ROC AUC Score: 0.9765333029489776\n",
            "f1-score: 0.8372993912562258\n"
          ]
        }
      ]
    },
    {
      "cell_type": "markdown",
      "source": [
        "Лучшая модель в соревновании Stacking Model\n",
        "\n",
        "Метрики на валидационной выборке:\n",
        "\n",
        "ROC AUC Score: 0.9765333029489776\n",
        "\n",
        "f1-score: 0.8372993912562258"
      ],
      "metadata": {
        "id": "ZWf5lLQoB3Vf"
      }
    },
    {
      "cell_type": "markdown",
      "source": [
        "# 3) Предсказание на тестовом датасете"
      ],
      "metadata": {
        "id": "R4RLMsKgdOaR"
      }
    },
    {
      "cell_type": "markdown",
      "source": [
        "К тестовому датасету применяются те же преобразования, что и к тренировочному датасету"
      ],
      "metadata": {
        "id": "Q9Qd4ekgcBIa"
      }
    },
    {
      "cell_type": "code",
      "source": [
        "test = pd.read_csv('/content/drive/MyDrive/shift_winter/test.csv',delimiter=',')"
      ],
      "metadata": {
        "id": "AQFz4-DyQSrO"
      },
      "execution_count": null,
      "outputs": []
    },
    {
      "cell_type": "code",
      "source": [
        "test=test.drop('City', axis=1)\n",
        "test=test.drop('Degree', axis=1)\n",
        "test = test.drop('Gender', axis=1)\n",
        "test = test.drop('CGPA', axis=1)\n",
        "test = test.drop('Name', axis=1)"
      ],
      "metadata": {
        "id": "VSAE_GsI_FpA"
      },
      "execution_count": null,
      "outputs": []
    },
    {
      "cell_type": "code",
      "source": [
        "test.loc[test['Working Professional or Student'] == 'Working Professional', 'Academic Pressure'] = 0\n",
        "test.loc[test['Working Professional or Student'] == 'Student', 'Work Pressure'] = 0\n",
        "test.loc[test['Working Professional or Student'] == 'Student', 'Profession'] = 'Student'\n",
        "\n",
        "test.loc[(test['Study Satisfaction'].isna()) & (test['Working Professional or Student']  == 'Student'), 'Study Satisfaction'] = std_mid\n",
        "test.loc[(test['Academic Pressure'].isna()) & (test['Working Professional or Student']  == 'Student'), 'Academic Pressure'] = acd_mid\n",
        "test.loc[(test['Job Satisfaction'].isna()) & (test['Working Professional or Student']  == 'Working Professional'), 'Job Satisfaction'] = job_mid\n",
        "test.loc[(test['Work Pressure'].isna()) & (test['Working Professional or Student']  == 'Working Professional'), 'Work Pressure'] = work_mid\n"
      ],
      "metadata": {
        "id": "Rs7WvT46P0JN"
      },
      "execution_count": null,
      "outputs": []
    },
    {
      "cell_type": "code",
      "source": [
        "def encode_with_new_classes(label_encoder, series):\n",
        "    current_classes = set(label_encoder.classes_)\n",
        "    new_classes = set(series.dropna()) - current_classes\n",
        "\n",
        "    if new_classes:\n",
        "        updated_classes = np.append(label_encoder.classes_, list(new_classes))\n",
        "        label_encoder.classes_ = updated_classes\n",
        "\n",
        "    return label_encoder.transform(series.fillna('Unknown'))\n",
        "\n",
        "test['Profession'] = encode_with_new_classes(label_encoder, test['Profession'])\n"
      ],
      "metadata": {
        "id": "lRKpn3uGQhnJ"
      },
      "execution_count": null,
      "outputs": []
    },
    {
      "cell_type": "code",
      "source": [
        "test = test.fillna(0)"
      ],
      "metadata": {
        "id": "Gks0s_vSQVBG"
      },
      "execution_count": null,
      "outputs": []
    },
    {
      "cell_type": "code",
      "source": [
        "test['Have you ever had suicidal thoughts ?'] = test['Have you ever had suicidal thoughts ?'].map(mapping)\n",
        "test['Sleep Duration']=test['Sleep Duration'].map(mapping)\n",
        "test['Family History of Mental Illness']=test['Family History of Mental Illness'].map(mapping)\n",
        "test['Dietary Habits']=test['Dietary Habits'].map(mapping)\n",
        "test['Working Professional or Student']=test['Working Professional or Student'].map(mapping)"
      ],
      "metadata": {
        "id": "BFheGiuv_igS"
      },
      "execution_count": null,
      "outputs": []
    },
    {
      "cell_type": "code",
      "source": [
        "test['Free time'] = 24 - test['Sleep Duration']-test['Work/Study Hours']"
      ],
      "metadata": {
        "id": "l_dALZ4X8Vjr"
      },
      "execution_count": null,
      "outputs": []
    },
    {
      "cell_type": "code",
      "source": [
        "test['Problem_student'] = np.where(\n",
        "    test['Academic Pressure'] == 0,\n",
        "    0,\n",
        "    test['Academic Pressure'] + test['Financial Stress'] + test['Study Satisfaction'] + test['Have you ever had suicidal thoughts ?'] + test['Family History of Mental Illness']\n",
        ")"
      ],
      "metadata": {
        "id": "Nn6DggCa8bp0"
      },
      "execution_count": null,
      "outputs": []
    },
    {
      "cell_type": "code",
      "source": [
        "test['Problem_work'] = np.where(\n",
        "    test['Work Pressure'] == 0,\n",
        "    0,\n",
        "    -test['Work Pressure'] + test['Financial Stress'] - test['Job Satisfaction']+ test['Have you ever had suicidal thoughts ?'] + test['Family History of Mental Illness']\n",
        ")"
      ],
      "metadata": {
        "id": "mNhczP2v8e0E"
      },
      "execution_count": null,
      "outputs": []
    },
    {
      "cell_type": "code",
      "source": [
        "test = encoder.transform(test)"
      ],
      "metadata": {
        "id": "TrIaoiC4_vpF"
      },
      "execution_count": null,
      "outputs": []
    },
    {
      "cell_type": "code",
      "source": [
        "test = test.fillna(0)"
      ],
      "metadata": {
        "id": "F-bI_F6s-bcf"
      },
      "execution_count": null,
      "outputs": []
    },
    {
      "cell_type": "markdown",
      "source": [
        "Предсказание на тестовом датасете"
      ],
      "metadata": {
        "id": "X7WNqJ0vcK_U"
      }
    },
    {
      "cell_type": "code",
      "source": [
        "y_pred_proba_test = stacking_model.predict(test)\n",
        "y_pred_proba_test\n",
        "pd.DataFrame(y_pred_proba_test, columns=['Depression']).to_csv('submission.csv', index=False)"
      ],
      "metadata": {
        "id": "djd8SqrX_-s1"
      },
      "execution_count": null,
      "outputs": []
    },
    {
      "cell_type": "code",
      "source": [
        "!zip submission.zip submission.csv"
      ],
      "metadata": {
        "colab": {
          "base_uri": "https://localhost:8080/"
        },
        "id": "oxiG7lLJAB9q",
        "outputId": "e7cae624-d42f-47f7-f16e-8d5d39b6ca14"
      },
      "execution_count": null,
      "outputs": [
        {
          "output_type": "stream",
          "name": "stdout",
          "text": [
            "updating: submission.csv (deflated 92%)\n"
          ]
        }
      ]
    },
    {
      "cell_type": "markdown",
      "source": [
        "# 4) *Дополнительно перцептронная нейронная сеть"
      ],
      "metadata": {
        "id": "EBOcWkkRX_XF"
      }
    },
    {
      "cell_type": "markdown",
      "source": [
        "Перцептронная нейронная сеть, содержащая слои по 64 и 32 нейрона с функцией активации relu, также dropout слои убирающие часть нейронов, чтобы предотвратить переобучение. Последний слой выходной, нейронная сеть обучается 10 эпох с размером батча 32 по метрике roc_auc"
      ],
      "metadata": {
        "id": "B9GTMXynYJyi"
      }
    },
    {
      "cell_type": "code",
      "source": [
        "import tensorflow as tf\n",
        "from keras.models import Sequential\n",
        "from keras.layers import Dense, Dropout\n",
        "\n",
        "from tensorflow.keras.utils import to_categorical\n",
        "\n",
        "model = Sequential([\n",
        "    Dense(64, activation='relu', input_shape=(X_train.shape[1],)),\n",
        "    Dropout(0.3),\n",
        "    Dense(32, activation='relu'),\n",
        "    Dropout(0.3),\n",
        "    Dense(1, activation='sigmoid')\n",
        "])\n",
        "model.compile(optimizer='adam', loss='binary_crossentropy', metrics=[tf.keras.metrics.AUC(name='roc_auc')])\n",
        "\n",
        "model.fit(X_train, y_train, epochs=10, batch_size=32, validation_data=(X_test, y_test))"
      ],
      "metadata": {
        "colab": {
          "base_uri": "https://localhost:8080/"
        },
        "id": "Y0F3AZkmNRCc",
        "outputId": "a51004e5-972c-4681-cf76-cff1480485bf"
      },
      "execution_count": null,
      "outputs": [
        {
          "output_type": "stream",
          "name": "stdout",
          "text": [
            "Epoch 1/10\n"
          ]
        },
        {
          "output_type": "stream",
          "name": "stderr",
          "text": [
            "/usr/local/lib/python3.11/dist-packages/keras/src/layers/core/dense.py:87: UserWarning: Do not pass an `input_shape`/`input_dim` argument to a layer. When using Sequential models, prefer using an `Input(shape)` object as the first layer in the model instead.\n",
            "  super().__init__(activity_regularizer=activity_regularizer, **kwargs)\n"
          ]
        },
        {
          "output_type": "stream",
          "name": "stdout",
          "text": [
            "\u001b[1m2461/2461\u001b[0m \u001b[32m━━━━━━━━━━━━━━━━━━━━\u001b[0m\u001b[37m\u001b[0m \u001b[1m11s\u001b[0m 3ms/step - loss: 0.3894 - roc_auc: 0.8758 - val_loss: 0.1800 - val_roc_auc: 0.9679\n",
            "Epoch 2/10\n",
            "\u001b[1m2461/2461\u001b[0m \u001b[32m━━━━━━━━━━━━━━━━━━━━\u001b[0m\u001b[37m\u001b[0m \u001b[1m10s\u001b[0m 4ms/step - loss: 0.1911 - roc_auc: 0.9599 - val_loss: 0.1621 - val_roc_auc: 0.9706\n",
            "Epoch 3/10\n",
            "\u001b[1m2461/2461\u001b[0m \u001b[32m━━━━━━━━━━━━━━━━━━━━\u001b[0m\u001b[37m\u001b[0m \u001b[1m8s\u001b[0m 3ms/step - loss: 0.1835 - roc_auc: 0.9621 - val_loss: 0.1573 - val_roc_auc: 0.9726\n",
            "Epoch 4/10\n",
            "\u001b[1m2461/2461\u001b[0m \u001b[32m━━━━━━━━━━━━━━━━━━━━\u001b[0m\u001b[37m\u001b[0m \u001b[1m12s\u001b[0m 3ms/step - loss: 0.1751 - roc_auc: 0.9655 - val_loss: 0.1527 - val_roc_auc: 0.9738\n",
            "Epoch 5/10\n",
            "\u001b[1m2461/2461\u001b[0m \u001b[32m━━━━━━━━━━━━━━━━━━━━\u001b[0m\u001b[37m\u001b[0m \u001b[1m11s\u001b[0m 4ms/step - loss: 0.1751 - roc_auc: 0.9653 - val_loss: 0.1526 - val_roc_auc: 0.9726\n",
            "Epoch 6/10\n",
            "\u001b[1m2461/2461\u001b[0m \u001b[32m━━━━━━━━━━━━━━━━━━━━\u001b[0m\u001b[37m\u001b[0m \u001b[1m8s\u001b[0m 3ms/step - loss: 0.1672 - roc_auc: 0.9690 - val_loss: 0.1561 - val_roc_auc: 0.9746\n",
            "Epoch 7/10\n",
            "\u001b[1m2461/2461\u001b[0m \u001b[32m━━━━━━━━━━━━━━━━━━━━\u001b[0m\u001b[37m\u001b[0m \u001b[1m11s\u001b[0m 3ms/step - loss: 0.1711 - roc_auc: 0.9673 - val_loss: 0.1522 - val_roc_auc: 0.9745\n",
            "Epoch 8/10\n",
            "\u001b[1m2461/2461\u001b[0m \u001b[32m━━━━━━━━━━━━━━━━━━━━\u001b[0m\u001b[37m\u001b[0m \u001b[1m16s\u001b[0m 6ms/step - loss: 0.1681 - roc_auc: 0.9686 - val_loss: 0.1523 - val_roc_auc: 0.9748\n",
            "Epoch 9/10\n",
            "\u001b[1m2461/2461\u001b[0m \u001b[32m━━━━━━━━━━━━━━━━━━━━\u001b[0m\u001b[37m\u001b[0m \u001b[1m9s\u001b[0m 3ms/step - loss: 0.1651 - roc_auc: 0.9692 - val_loss: 0.1576 - val_roc_auc: 0.9716\n",
            "Epoch 10/10\n",
            "\u001b[1m2461/2461\u001b[0m \u001b[32m━━━━━━━━━━━━━━━━━━━━\u001b[0m\u001b[37m\u001b[0m \u001b[1m10s\u001b[0m 3ms/step - loss: 0.1633 - roc_auc: 0.9697 - val_loss: 0.1552 - val_roc_auc: 0.9751\n"
          ]
        },
        {
          "output_type": "execute_result",
          "data": {
            "text/plain": [
              "<keras.src.callbacks.history.History at 0x787d46254690>"
            ]
          },
          "metadata": {},
          "execution_count": 679
        }
      ]
    },
    {
      "cell_type": "markdown",
      "source": [
        "Оценка нейронной сети на валидационной выборке"
      ],
      "metadata": {
        "id": "RPpKD2RjZIW9"
      }
    },
    {
      "cell_type": "code",
      "source": [
        "y_pred_prob = model.predict(X_test)\n",
        "y_pred = (y_pred_prob > 0.5).astype(int)\n",
        "\n",
        "roc_auc = roc_auc_score(y_test, y_pred_prob)\n",
        "f1 = f1_score(y_test, y_pred)\n",
        "\n",
        "print(f'Test ROC AUC: {roc_auc:.4f}')\n",
        "print(f'Test F1 Score: {f1:.4f}')"
      ],
      "metadata": {
        "colab": {
          "base_uri": "https://localhost:8080/"
        },
        "id": "zJOt3lJaOO2v",
        "outputId": "ac2966d3-9638-4f8b-ace7-68477be0ce1f"
      },
      "execution_count": null,
      "outputs": [
        {
          "output_type": "stream",
          "name": "stdout",
          "text": [
            "\u001b[1m616/616\u001b[0m \u001b[32m━━━━━━━━━━━━━━━━━━━━\u001b[0m\u001b[37m\u001b[0m \u001b[1m1s\u001b[0m 1ms/step\n",
            "Test ROC AUC: 0.9752\n",
            "Test F1 Score: 0.8273\n"
          ]
        }
      ]
    }
  ]
}